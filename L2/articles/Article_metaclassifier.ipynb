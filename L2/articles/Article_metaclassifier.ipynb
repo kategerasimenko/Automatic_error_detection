{
 "cells": [
  {
   "cell_type": "code",
   "execution_count": 1,
   "metadata": {},
   "outputs": [],
   "source": [
    "import json\n",
    "import pandas as pd\n",
    "import numpy as np\n",
    "from sklearn.feature_extraction.text import CountVectorizer\n",
    "from sklearn.model_selection import train_test_split\n",
    "from sklearn.linear_model import LogisticRegression\n",
    "from sklearn.ensemble import RandomForestClassifier\n",
    "from xgboost import XGBClassifier\n",
    "from scipy.sparse import csr_matrix, hstack\n",
    "from sklearn.metrics import accuracy_score, classification_report\n",
    "import pickle\n",
    "import random\n",
    "\n",
    "SEED = 7"
   ]
  },
  {
   "cell_type": "code",
   "execution_count": 8,
   "metadata": {
    "scrolled": true
   },
   "outputs": [],
   "source": [
    "full_data = pd.read_csv('articles_meta.csv',sep=';')"
   ]
  },
  {
   "cell_type": "code",
   "execution_count": 9,
   "metadata": {
    "scrolled": true
   },
   "outputs": [
    {
     "data": {
      "text/html": [
       "<div>\n",
       "<style scoped>\n",
       "    .dataframe tbody tr th:only-of-type {\n",
       "        vertical-align: middle;\n",
       "    }\n",
       "\n",
       "    .dataframe tbody tr th {\n",
       "        vertical-align: top;\n",
       "    }\n",
       "\n",
       "    .dataframe thead th {\n",
       "        text-align: right;\n",
       "    }\n",
       "</style>\n",
       "<table border=\"1\" class=\"dataframe\">\n",
       "  <thead>\n",
       "    <tr style=\"text-align: right;\">\n",
       "      <th></th>\n",
       "      <th>present</th>\n",
       "      <th>zero</th>\n",
       "      <th>a</th>\n",
       "      <th>an</th>\n",
       "      <th>the</th>\n",
       "      <th>raw_NP</th>\n",
       "      <th>Start_idx</th>\n",
       "      <th>Sent_start_idx</th>\n",
       "      <th>Initial</th>\n",
       "      <th>ML_L1</th>\n",
       "      <th>Ann</th>\n",
       "      <th>lm_a</th>\n",
       "      <th>lm_an</th>\n",
       "      <th>lm_the</th>\n",
       "      <th>lm_zero</th>\n",
       "    </tr>\n",
       "  </thead>\n",
       "  <tbody>\n",
       "    <tr>\n",
       "      <th>0</th>\n",
       "      <td>0.625264</td>\n",
       "      <td>0.374736</td>\n",
       "      <td>0.109307</td>\n",
       "      <td>0.000011</td>\n",
       "      <td>0.890682</td>\n",
       "      <td>The pie-chart</td>\n",
       "      <td>0</td>\n",
       "      <td>0</td>\n",
       "      <td>the</td>\n",
       "      <td>the</td>\n",
       "      <td>the</td>\n",
       "      <td>-63.203705</td>\n",
       "      <td>-63.866825</td>\n",
       "      <td>-62.679638</td>\n",
       "      <td>-61.982605</td>\n",
       "    </tr>\n",
       "    <tr>\n",
       "      <th>1</th>\n",
       "      <td>0.915166</td>\n",
       "      <td>0.084834</td>\n",
       "      <td>0.000043</td>\n",
       "      <td>0.002106</td>\n",
       "      <td>0.997851</td>\n",
       "      <td>the ages</td>\n",
       "      <td>29</td>\n",
       "      <td>0</td>\n",
       "      <td>the</td>\n",
       "      <td>the</td>\n",
       "      <td>the</td>\n",
       "      <td>-66.313194</td>\n",
       "      <td>-67.218285</td>\n",
       "      <td>-62.679638</td>\n",
       "      <td>-63.784740</td>\n",
       "    </tr>\n",
       "    <tr>\n",
       "      <th>2</th>\n",
       "      <td>0.888019</td>\n",
       "      <td>0.111981</td>\n",
       "      <td>0.047525</td>\n",
       "      <td>0.000006</td>\n",
       "      <td>0.952469</td>\n",
       "      <td>the population</td>\n",
       "      <td>41</td>\n",
       "      <td>0</td>\n",
       "      <td>the</td>\n",
       "      <td>the</td>\n",
       "      <td>the</td>\n",
       "      <td>-64.242260</td>\n",
       "      <td>-66.042200</td>\n",
       "      <td>-62.679638</td>\n",
       "      <td>-62.111004</td>\n",
       "    </tr>\n",
       "    <tr>\n",
       "      <th>3</th>\n",
       "      <td>0.006016</td>\n",
       "      <td>0.993984</td>\n",
       "      <td>0.000007</td>\n",
       "      <td>0.046961</td>\n",
       "      <td>0.953033</td>\n",
       "      <td>Italy</td>\n",
       "      <td>64</td>\n",
       "      <td>0</td>\n",
       "      <td>zero</td>\n",
       "      <td>zero</td>\n",
       "      <td>zero</td>\n",
       "      <td>-67.619310</td>\n",
       "      <td>-67.987420</td>\n",
       "      <td>-65.994660</td>\n",
       "      <td>-62.679638</td>\n",
       "    </tr>\n",
       "    <tr>\n",
       "      <th>4</th>\n",
       "      <td>0.031115</td>\n",
       "      <td>0.968885</td>\n",
       "      <td>0.394534</td>\n",
       "      <td>0.002161</td>\n",
       "      <td>0.603305</td>\n",
       "      <td>Yemen</td>\n",
       "      <td>74</td>\n",
       "      <td>0</td>\n",
       "      <td>zero</td>\n",
       "      <td>zero</td>\n",
       "      <td>zero</td>\n",
       "      <td>-65.831055</td>\n",
       "      <td>-66.851190</td>\n",
       "      <td>-63.798640</td>\n",
       "      <td>-62.679638</td>\n",
       "    </tr>\n",
       "  </tbody>\n",
       "</table>\n",
       "</div>"
      ],
      "text/plain": [
       "    present      zero         a        an       the          raw_NP  \\\n",
       "0  0.625264  0.374736  0.109307  0.000011  0.890682   The pie-chart   \n",
       "1  0.915166  0.084834  0.000043  0.002106  0.997851        the ages   \n",
       "2  0.888019  0.111981  0.047525  0.000006  0.952469  the population   \n",
       "3  0.006016  0.993984  0.000007  0.046961  0.953033           Italy   \n",
       "4  0.031115  0.968885  0.394534  0.002161  0.603305           Yemen   \n",
       "\n",
       "   Start_idx  Sent_start_idx Initial ML_L1   Ann       lm_a      lm_an  \\\n",
       "0          0               0     the   the   the -63.203705 -63.866825   \n",
       "1         29               0     the   the   the -66.313194 -67.218285   \n",
       "2         41               0     the   the   the -64.242260 -66.042200   \n",
       "3         64               0    zero  zero  zero -67.619310 -67.987420   \n",
       "4         74               0    zero  zero  zero -65.831055 -66.851190   \n",
       "\n",
       "      lm_the    lm_zero  \n",
       "0 -62.679638 -61.982605  \n",
       "1 -62.679638 -63.784740  \n",
       "2 -62.679638 -62.111004  \n",
       "3 -65.994660 -62.679638  \n",
       "4 -63.798640 -62.679638  "
      ]
     },
     "execution_count": 9,
     "metadata": {},
     "output_type": "execute_result"
    }
   ],
   "source": [
    "full_data.head()"
   ]
  },
  {
   "cell_type": "code",
   "execution_count": 10,
   "metadata": {},
   "outputs": [],
   "source": [
    "probs_ratio = []\n",
    "probs_delta = []\n",
    "init_probs = []\n",
    "corr_probs = []\n",
    "lm_choice = []\n",
    "for i in range(full_data.shape[0]):\n",
    "    row = full_data.iloc[i]\n",
    "    init_prob = row['lm_'+row['Initial']]\n",
    "    corr_prob = row['lm_'+row['ML_L1']]\n",
    "    init_probs.append(init_prob)\n",
    "    corr_probs.append(corr_prob)\n",
    "    probs_ratio.append(init_prob / corr_prob)\n",
    "    probs_delta.append(init_prob - corr_prob)\n",
    "full_data['init_prob'] = init_probs\n",
    "full_data['corr_prob'] = corr_probs\n",
    "full_data['probs_ratio'] = probs_ratio\n",
    "full_data['probs_delta'] = probs_delta\n",
    "full_data['LM'] = full_data[['lm_a','lm_an','lm_the','lm_zero']].idxmax(1)\n",
    "full_data['LM'] = full_data['LM'].apply(lambda x: x.split('_')[1])"
   ]
  },
  {
   "cell_type": "code",
   "execution_count": 11,
   "metadata": {
    "scrolled": true
   },
   "outputs": [
    {
     "data": {
      "text/html": [
       "<div>\n",
       "<style scoped>\n",
       "    .dataframe tbody tr th:only-of-type {\n",
       "        vertical-align: middle;\n",
       "    }\n",
       "\n",
       "    .dataframe tbody tr th {\n",
       "        vertical-align: top;\n",
       "    }\n",
       "\n",
       "    .dataframe thead th {\n",
       "        text-align: right;\n",
       "    }\n",
       "</style>\n",
       "<table border=\"1\" class=\"dataframe\">\n",
       "  <thead>\n",
       "    <tr style=\"text-align: right;\">\n",
       "      <th></th>\n",
       "      <th>present</th>\n",
       "      <th>zero</th>\n",
       "      <th>a</th>\n",
       "      <th>an</th>\n",
       "      <th>the</th>\n",
       "      <th>raw_NP</th>\n",
       "      <th>Start_idx</th>\n",
       "      <th>Sent_start_idx</th>\n",
       "      <th>Initial</th>\n",
       "      <th>ML_L1</th>\n",
       "      <th>Ann</th>\n",
       "      <th>lm_a</th>\n",
       "      <th>lm_an</th>\n",
       "      <th>lm_the</th>\n",
       "      <th>lm_zero</th>\n",
       "      <th>init_prob</th>\n",
       "      <th>corr_prob</th>\n",
       "      <th>probs_ratio</th>\n",
       "      <th>probs_delta</th>\n",
       "      <th>LM</th>\n",
       "    </tr>\n",
       "  </thead>\n",
       "  <tbody>\n",
       "    <tr>\n",
       "      <th>0</th>\n",
       "      <td>0.625264</td>\n",
       "      <td>0.374736</td>\n",
       "      <td>0.109307</td>\n",
       "      <td>0.000011</td>\n",
       "      <td>0.890682</td>\n",
       "      <td>The pie-chart</td>\n",
       "      <td>0</td>\n",
       "      <td>0</td>\n",
       "      <td>the</td>\n",
       "      <td>the</td>\n",
       "      <td>the</td>\n",
       "      <td>-63.203705</td>\n",
       "      <td>-63.866825</td>\n",
       "      <td>-62.679638</td>\n",
       "      <td>-61.982605</td>\n",
       "      <td>-62.679638</td>\n",
       "      <td>-62.679638</td>\n",
       "      <td>1.0</td>\n",
       "      <td>0.0</td>\n",
       "      <td>zero</td>\n",
       "    </tr>\n",
       "    <tr>\n",
       "      <th>1</th>\n",
       "      <td>0.915166</td>\n",
       "      <td>0.084834</td>\n",
       "      <td>0.000043</td>\n",
       "      <td>0.002106</td>\n",
       "      <td>0.997851</td>\n",
       "      <td>the ages</td>\n",
       "      <td>29</td>\n",
       "      <td>0</td>\n",
       "      <td>the</td>\n",
       "      <td>the</td>\n",
       "      <td>the</td>\n",
       "      <td>-66.313194</td>\n",
       "      <td>-67.218285</td>\n",
       "      <td>-62.679638</td>\n",
       "      <td>-63.784740</td>\n",
       "      <td>-62.679638</td>\n",
       "      <td>-62.679638</td>\n",
       "      <td>1.0</td>\n",
       "      <td>0.0</td>\n",
       "      <td>the</td>\n",
       "    </tr>\n",
       "    <tr>\n",
       "      <th>2</th>\n",
       "      <td>0.888019</td>\n",
       "      <td>0.111981</td>\n",
       "      <td>0.047525</td>\n",
       "      <td>0.000006</td>\n",
       "      <td>0.952469</td>\n",
       "      <td>the population</td>\n",
       "      <td>41</td>\n",
       "      <td>0</td>\n",
       "      <td>the</td>\n",
       "      <td>the</td>\n",
       "      <td>the</td>\n",
       "      <td>-64.242260</td>\n",
       "      <td>-66.042200</td>\n",
       "      <td>-62.679638</td>\n",
       "      <td>-62.111004</td>\n",
       "      <td>-62.679638</td>\n",
       "      <td>-62.679638</td>\n",
       "      <td>1.0</td>\n",
       "      <td>0.0</td>\n",
       "      <td>zero</td>\n",
       "    </tr>\n",
       "    <tr>\n",
       "      <th>3</th>\n",
       "      <td>0.006016</td>\n",
       "      <td>0.993984</td>\n",
       "      <td>0.000007</td>\n",
       "      <td>0.046961</td>\n",
       "      <td>0.953033</td>\n",
       "      <td>Italy</td>\n",
       "      <td>64</td>\n",
       "      <td>0</td>\n",
       "      <td>zero</td>\n",
       "      <td>zero</td>\n",
       "      <td>zero</td>\n",
       "      <td>-67.619310</td>\n",
       "      <td>-67.987420</td>\n",
       "      <td>-65.994660</td>\n",
       "      <td>-62.679638</td>\n",
       "      <td>-62.679638</td>\n",
       "      <td>-62.679638</td>\n",
       "      <td>1.0</td>\n",
       "      <td>0.0</td>\n",
       "      <td>zero</td>\n",
       "    </tr>\n",
       "    <tr>\n",
       "      <th>4</th>\n",
       "      <td>0.031115</td>\n",
       "      <td>0.968885</td>\n",
       "      <td>0.394534</td>\n",
       "      <td>0.002161</td>\n",
       "      <td>0.603305</td>\n",
       "      <td>Yemen</td>\n",
       "      <td>74</td>\n",
       "      <td>0</td>\n",
       "      <td>zero</td>\n",
       "      <td>zero</td>\n",
       "      <td>zero</td>\n",
       "      <td>-65.831055</td>\n",
       "      <td>-66.851190</td>\n",
       "      <td>-63.798640</td>\n",
       "      <td>-62.679638</td>\n",
       "      <td>-62.679638</td>\n",
       "      <td>-62.679638</td>\n",
       "      <td>1.0</td>\n",
       "      <td>0.0</td>\n",
       "      <td>zero</td>\n",
       "    </tr>\n",
       "  </tbody>\n",
       "</table>\n",
       "</div>"
      ],
      "text/plain": [
       "    present      zero         a        an       the          raw_NP  \\\n",
       "0  0.625264  0.374736  0.109307  0.000011  0.890682   The pie-chart   \n",
       "1  0.915166  0.084834  0.000043  0.002106  0.997851        the ages   \n",
       "2  0.888019  0.111981  0.047525  0.000006  0.952469  the population   \n",
       "3  0.006016  0.993984  0.000007  0.046961  0.953033           Italy   \n",
       "4  0.031115  0.968885  0.394534  0.002161  0.603305           Yemen   \n",
       "\n",
       "   Start_idx  Sent_start_idx Initial ML_L1   Ann       lm_a      lm_an  \\\n",
       "0          0               0     the   the   the -63.203705 -63.866825   \n",
       "1         29               0     the   the   the -66.313194 -67.218285   \n",
       "2         41               0     the   the   the -64.242260 -66.042200   \n",
       "3         64               0    zero  zero  zero -67.619310 -67.987420   \n",
       "4         74               0    zero  zero  zero -65.831055 -66.851190   \n",
       "\n",
       "      lm_the    lm_zero  init_prob  corr_prob  probs_ratio  probs_delta    LM  \n",
       "0 -62.679638 -61.982605 -62.679638 -62.679638          1.0          0.0  zero  \n",
       "1 -62.679638 -63.784740 -62.679638 -62.679638          1.0          0.0   the  \n",
       "2 -62.679638 -62.111004 -62.679638 -62.679638          1.0          0.0  zero  \n",
       "3 -65.994660 -62.679638 -62.679638 -62.679638          1.0          0.0  zero  \n",
       "4 -63.798640 -62.679638 -62.679638 -62.679638          1.0          0.0  zero  "
      ]
     },
     "execution_count": 11,
     "metadata": {},
     "output_type": "execute_result"
    }
   ],
   "source": [
    "full_data.head()"
   ]
  },
  {
   "cell_type": "code",
   "execution_count": 66,
   "metadata": {
    "scrolled": false
   },
   "outputs": [
    {
     "data": {
      "text/html": [
       "<div>\n",
       "<style scoped>\n",
       "    .dataframe tbody tr th:only-of-type {\n",
       "        vertical-align: middle;\n",
       "    }\n",
       "\n",
       "    .dataframe tbody tr th {\n",
       "        vertical-align: top;\n",
       "    }\n",
       "\n",
       "    .dataframe thead th {\n",
       "        text-align: right;\n",
       "    }\n",
       "</style>\n",
       "<table border=\"1\" class=\"dataframe\">\n",
       "  <thead>\n",
       "    <tr style=\"text-align: right;\">\n",
       "      <th></th>\n",
       "      <th>present</th>\n",
       "      <th>zero</th>\n",
       "      <th>a</th>\n",
       "      <th>an</th>\n",
       "      <th>the</th>\n",
       "      <th>raw_NP</th>\n",
       "      <th>Start_idx</th>\n",
       "      <th>Sent_start_idx</th>\n",
       "      <th>Initial</th>\n",
       "      <th>ML_L1</th>\n",
       "      <th>Ann</th>\n",
       "      <th>lm_a</th>\n",
       "      <th>lm_an</th>\n",
       "      <th>lm_the</th>\n",
       "      <th>lm_zero</th>\n",
       "      <th>init_prob</th>\n",
       "      <th>corr_prob</th>\n",
       "      <th>probs_ratio</th>\n",
       "      <th>probs_delta</th>\n",
       "      <th>LM</th>\n",
       "    </tr>\n",
       "  </thead>\n",
       "  <tbody>\n",
       "    <tr>\n",
       "      <th>0</th>\n",
       "      <td>0.625264</td>\n",
       "      <td>0.374736</td>\n",
       "      <td>0.109307</td>\n",
       "      <td>0.000011</td>\n",
       "      <td>0.890682</td>\n",
       "      <td>The pie-chart</td>\n",
       "      <td>0</td>\n",
       "      <td>0</td>\n",
       "      <td>the</td>\n",
       "      <td>the</td>\n",
       "      <td>the</td>\n",
       "      <td>-63.203705</td>\n",
       "      <td>-63.866825</td>\n",
       "      <td>-62.679638</td>\n",
       "      <td>-61.982605</td>\n",
       "      <td>-62.679638</td>\n",
       "      <td>-62.679638</td>\n",
       "      <td>1.000000</td>\n",
       "      <td>0.000000</td>\n",
       "      <td>zero</td>\n",
       "    </tr>\n",
       "    <tr>\n",
       "      <th>2</th>\n",
       "      <td>0.888019</td>\n",
       "      <td>0.111981</td>\n",
       "      <td>0.047525</td>\n",
       "      <td>0.000006</td>\n",
       "      <td>0.952469</td>\n",
       "      <td>the population</td>\n",
       "      <td>41</td>\n",
       "      <td>0</td>\n",
       "      <td>the</td>\n",
       "      <td>the</td>\n",
       "      <td>the</td>\n",
       "      <td>-64.242260</td>\n",
       "      <td>-66.042200</td>\n",
       "      <td>-62.679638</td>\n",
       "      <td>-62.111004</td>\n",
       "      <td>-62.679638</td>\n",
       "      <td>-62.679638</td>\n",
       "      <td>1.000000</td>\n",
       "      <td>0.000000</td>\n",
       "      <td>zero</td>\n",
       "    </tr>\n",
       "    <tr>\n",
       "      <th>8</th>\n",
       "      <td>0.256608</td>\n",
       "      <td>0.743392</td>\n",
       "      <td>0.017234</td>\n",
       "      <td>0.000003</td>\n",
       "      <td>0.982763</td>\n",
       "      <td>the precast data</td>\n",
       "      <td>13</td>\n",
       "      <td>221</td>\n",
       "      <td>the</td>\n",
       "      <td>zero</td>\n",
       "      <td>the</td>\n",
       "      <td>-80.810936</td>\n",
       "      <td>-81.134230</td>\n",
       "      <td>-79.808420</td>\n",
       "      <td>-79.367630</td>\n",
       "      <td>-79.808420</td>\n",
       "      <td>-79.367630</td>\n",
       "      <td>1.005554</td>\n",
       "      <td>-0.440790</td>\n",
       "      <td>zero</td>\n",
       "    </tr>\n",
       "    <tr>\n",
       "      <th>11</th>\n",
       "      <td>0.881925</td>\n",
       "      <td>0.118075</td>\n",
       "      <td>0.892104</td>\n",
       "      <td>0.014736</td>\n",
       "      <td>0.093160</td>\n",
       "      <td>reduction</td>\n",
       "      <td>70</td>\n",
       "      <td>221</td>\n",
       "      <td>zero</td>\n",
       "      <td>a</td>\n",
       "      <td>a</td>\n",
       "      <td>-76.583580</td>\n",
       "      <td>-81.375690</td>\n",
       "      <td>-79.201610</td>\n",
       "      <td>-79.808420</td>\n",
       "      <td>-79.808420</td>\n",
       "      <td>-76.583580</td>\n",
       "      <td>1.042109</td>\n",
       "      <td>-3.224840</td>\n",
       "      <td>a</td>\n",
       "    </tr>\n",
       "    <tr>\n",
       "      <th>13</th>\n",
       "      <td>0.695115</td>\n",
       "      <td>0.304885</td>\n",
       "      <td>0.085440</td>\n",
       "      <td>0.000010</td>\n",
       "      <td>0.914550</td>\n",
       "      <td>pie-chart</td>\n",
       "      <td>9</td>\n",
       "      <td>336</td>\n",
       "      <td>zero</td>\n",
       "      <td>the</td>\n",
       "      <td>the</td>\n",
       "      <td>-110.211810</td>\n",
       "      <td>-112.141940</td>\n",
       "      <td>-111.037766</td>\n",
       "      <td>-110.448265</td>\n",
       "      <td>-110.448265</td>\n",
       "      <td>-111.037766</td>\n",
       "      <td>0.994691</td>\n",
       "      <td>0.589501</td>\n",
       "      <td>a</td>\n",
       "    </tr>\n",
       "  </tbody>\n",
       "</table>\n",
       "</div>"
      ],
      "text/plain": [
       "     present      zero         a        an       the            raw_NP  \\\n",
       "0   0.625264  0.374736  0.109307  0.000011  0.890682     The pie-chart   \n",
       "2   0.888019  0.111981  0.047525  0.000006  0.952469    the population   \n",
       "8   0.256608  0.743392  0.017234  0.000003  0.982763  the precast data   \n",
       "11  0.881925  0.118075  0.892104  0.014736  0.093160         reduction   \n",
       "13  0.695115  0.304885  0.085440  0.000010  0.914550         pie-chart   \n",
       "\n",
       "    Start_idx  Sent_start_idx Initial ML_L1  Ann        lm_a       lm_an  \\\n",
       "0           0               0     the   the  the  -63.203705  -63.866825   \n",
       "2          41               0     the   the  the  -64.242260  -66.042200   \n",
       "8          13             221     the  zero  the  -80.810936  -81.134230   \n",
       "11         70             221    zero     a    a  -76.583580  -81.375690   \n",
       "13          9             336    zero   the  the -110.211810 -112.141940   \n",
       "\n",
       "        lm_the     lm_zero   init_prob   corr_prob  probs_ratio  probs_delta  \\\n",
       "0   -62.679638  -61.982605  -62.679638  -62.679638     1.000000     0.000000   \n",
       "2   -62.679638  -62.111004  -62.679638  -62.679638     1.000000     0.000000   \n",
       "8   -79.808420  -79.367630  -79.808420  -79.367630     1.005554    -0.440790   \n",
       "11  -79.201610  -79.808420  -79.808420  -76.583580     1.042109    -3.224840   \n",
       "13 -111.037766 -110.448265 -110.448265 -111.037766     0.994691     0.589501   \n",
       "\n",
       "      LM  \n",
       "0   zero  \n",
       "2   zero  \n",
       "8   zero  \n",
       "11     a  \n",
       "13     a  "
      ]
     },
     "execution_count": 66,
     "metadata": {},
     "output_type": "execute_result"
    }
   ],
   "source": [
    "data = full_data.loc[(full_data['Initial'] != full_data['ML_L1']) | (full_data['Initial'] != full_data['LM']) | \\\n",
    "                     (full_data['Initial'] != full_data['Ann']),:]\n",
    "data.head()"
   ]
  },
  {
   "cell_type": "code",
   "execution_count": 67,
   "metadata": {},
   "outputs": [],
   "source": [
    "target = data['Ann']\n",
    "X = data.drop(['Ann','raw_NP','Start_idx','Sent_start_idx'],axis=1)"
   ]
  },
  {
   "cell_type": "code",
   "execution_count": 68,
   "metadata": {},
   "outputs": [],
   "source": [
    "target_vect = CountVectorizer(token_pattern='.+')\n",
    "target_vect.fit(['a','an','the','zero'])\n",
    "X_sparse = hstack((X.drop(['Initial','ML_L1','LM'],axis=1).to_sparse(),\n",
    "                   target_vect.transform(X['Initial']),\n",
    "                   target_vect.transform(X['LM']),\n",
    "                   target_vect.transform(X['ML_L1'])))"
   ]
  },
  {
   "cell_type": "code",
   "execution_count": 69,
   "metadata": {},
   "outputs": [
    {
     "data": {
      "text/plain": [
       "(40000, 25)"
      ]
     },
     "execution_count": 69,
     "metadata": {},
     "output_type": "execute_result"
    }
   ],
   "source": [
    "X_sparse.shape"
   ]
  },
  {
   "cell_type": "code",
   "execution_count": 70,
   "metadata": {},
   "outputs": [],
   "source": [
    "X_train, X_test, y_train, y_test = train_test_split(X_sparse, target, test_size=0.33, random_state=SEED)"
   ]
  },
  {
   "cell_type": "code",
   "execution_count": 72,
   "metadata": {
    "scrolled": true
   },
   "outputs": [
    {
     "name": "stdout",
     "output_type": "stream",
     "text": [
      "0.8570454545454546\n",
      "             precision    recall  f1-score   support\n",
      "\n",
      "          a       0.86      0.79      0.82      1768\n",
      "         an       0.87      0.76      0.81       357\n",
      "        the       0.88      0.84      0.86      4940\n",
      "       zero       0.84      0.90      0.87      6135\n",
      "\n",
      "avg / total       0.86      0.86      0.86     13200\n",
      "\n"
     ]
    },
    {
     "name": "stderr",
     "output_type": "stream",
     "text": [
      "/home/egerasimenko/jupyter_env/lib/python3.5/site-packages/sklearn/preprocessing/label.py:151: DeprecationWarning: The truth value of an empty array is ambiguous. Returning False, but in future this will result in an error. Use `array.size > 0` to check that an array is not empty.\n",
      "  if diff:\n"
     ]
    }
   ],
   "source": [
    "xgb = XGBClassifier(n_estimators=500,max_depth=10,n_jobs=3,seed=SEED)\n",
    "xgb.fit(X_train,y_train)\n",
    "x_pred = xgb.predict(X_test)\n",
    "print(accuracy_score(y_test,x_pred))\n",
    "print(classification_report(y_test,x_pred))"
   ]
  },
  {
   "cell_type": "code",
   "execution_count": 71,
   "metadata": {},
   "outputs": [
    {
     "name": "stdout",
     "output_type": "stream",
     "text": [
      "0.8236363636363636\n",
      "             precision    recall  f1-score   support\n",
      "\n",
      "          a       0.85      0.75      0.80      1768\n",
      "         an       0.86      0.74      0.80       357\n",
      "        the       0.89      0.74      0.81      4940\n",
      "       zero       0.78      0.91      0.84      6135\n",
      "\n",
      "avg / total       0.83      0.82      0.82     13200\n",
      "\n"
     ]
    }
   ],
   "source": [
    "logit = LogisticRegression(random_state=SEED)\n",
    "logit.fit(X_train,y_train)\n",
    "l_pred = logit.predict(X_test)\n",
    "print(accuracy_score(y_test,l_pred))\n",
    "print(classification_report(y_test,l_pred))"
   ]
  },
  {
   "cell_type": "code",
   "execution_count": 73,
   "metadata": {},
   "outputs": [],
   "source": [
    "test_data = data.loc[y_test.index]"
   ]
  },
  {
   "cell_type": "code",
   "execution_count": 74,
   "metadata": {},
   "outputs": [],
   "source": [
    "x_pred_prob = xgb.predict_proba(X_test)\n",
    "options = ['a','an','the','zero']\n",
    "final_preds = []\n",
    "for l1_prob,lm_prob,meta_prob in zip(test_data[['a','an','the','zero','present']].values,\n",
    "                                     test_data[['lm_a','lm_an','lm_the','lm_zero']].values,\n",
    "                                    x_pred_prob):\n",
    "    #print(l1_prob[:-1],meta_prob,lm_prob)\n",
    "    l1_prob[:3] *= l1_prob[-1]\n",
    "    lm_prob /= sum(lm_prob)\n",
    "    final_preds.append(options[np.argmax(np.average((l1_prob[:-1],meta_prob,lm_prob),axis=0))])"
   ]
  },
  {
   "cell_type": "code",
   "execution_count": 75,
   "metadata": {},
   "outputs": [],
   "source": [
    "test_data['Preds'] = x_pred\n",
    "test_data['Final_preds'] = final_preds\n",
    "corrected = test_data.loc[(y_test != test_data['Initial']),['Initial','ML_L1','LM','Preds','Final_preds','Ann']]\n",
    "not_corrected = test_data.loc[(y_test == test_data['Initial']),['Initial','ML_L1','LM','Preds','Final_preds','Ann']]"
   ]
  },
  {
   "cell_type": "code",
   "execution_count": 78,
   "metadata": {},
   "outputs": [
    {
     "data": {
      "text/plain": [
       "(2338, 6)"
      ]
     },
     "execution_count": 78,
     "metadata": {},
     "output_type": "execute_result"
    }
   ],
   "source": [
    "corrected.shape"
   ]
  },
  {
   "cell_type": "code",
   "execution_count": 80,
   "metadata": {},
   "outputs": [
    {
     "name": "stdout",
     "output_type": "stream",
     "text": [
      "0.4773310521813516\n",
      "             precision    recall  f1-score   support\n",
      "\n",
      "          a       0.59      0.39      0.47       489\n",
      "         an       0.47      0.28      0.35        96\n",
      "        the       0.69      0.58      0.63      1330\n",
      "       zero       0.16      0.31      0.21       423\n",
      "\n",
      "avg / total       0.56      0.48      0.51      2338\n",
      "\n"
     ]
    }
   ],
   "source": [
    "print(accuracy_score(corrected['Ann'],corrected['Final_preds']))\n",
    "print(classification_report(corrected['Ann'],corrected['Final_preds']))"
   ]
  },
  {
   "cell_type": "code",
   "execution_count": 62,
   "metadata": {
    "scrolled": false
   },
   "outputs": [
    {
     "data": {
      "text/plain": [
       "(19, 6)"
      ]
     },
     "execution_count": 62,
     "metadata": {},
     "output_type": "execute_result"
    }
   ],
   "source": [
    "corrected[(corrected['Preds'] == corrected['Ann']) & (corrected['Ann'] != corrected['ML_L1']) &\n",
    "          (corrected['Ann'] != corrected['LM'])].shape"
   ]
  },
  {
   "cell_type": "markdown",
   "metadata": {},
   "source": [
    "# Train and save the model"
   ]
  },
  {
   "cell_type": "code",
   "execution_count": 34,
   "metadata": {},
   "outputs": [
    {
     "data": {
      "text/plain": [
       "XGBClassifier(base_score=0.5, booster='gbtree', colsample_bylevel=1,\n",
       "       colsample_bytree=1, gamma=0, learning_rate=0.1, max_delta_step=0,\n",
       "       max_depth=10, min_child_weight=1, missing=None, n_estimators=500,\n",
       "       n_jobs=3, nthread=None, objective='multi:softprob', random_state=0,\n",
       "       reg_alpha=0, reg_lambda=1, scale_pos_weight=1, seed=7, silent=True,\n",
       "       subsample=1)"
      ]
     },
     "execution_count": 34,
     "metadata": {},
     "output_type": "execute_result"
    }
   ],
   "source": [
    "xgb = XGBClassifier(n_estimators=500,max_depth=10,seed=SEED,n_jobs=3)\n",
    "xgb.fit(X_sparse,target)"
   ]
  },
  {
   "cell_type": "code",
   "execution_count": 35,
   "metadata": {},
   "outputs": [],
   "source": [
    "with open('../models/article_choice_vectorizer.pickle','wb') as f:\n",
    "    pickle.dump(target_vect,f)\n",
    "\n",
    "with open('../models/article_metaclassifier_xgboost.pickle','wb') as f:\n",
    "    pickle.dump(xgb,f)   "
   ]
  },
  {
   "cell_type": "code",
   "execution_count": 2,
   "metadata": {},
   "outputs": [],
   "source": [
    "with open('../models/article_metaclassifier_xgboost.pickle','rb') as f:\n",
    "    xgb = pickle.load(f)"
   ]
  },
  {
   "cell_type": "code",
   "execution_count": 4,
   "metadata": {},
   "outputs": [],
   "source": [
    "import xgboost"
   ]
  },
  {
   "cell_type": "code",
   "execution_count": 43,
   "metadata": {},
   "outputs": [
    {
     "name": "stdout",
     "output_type": "stream",
     "text": [
      "present 0.15547104\n",
      "an 0.14435138\n",
      "a 0.122264005\n",
      "probs_delta 0.11086422\n",
      "probs_ratio 0.08576665\n",
      "lm_a 0.08327873\n",
      "the 0.07097209\n",
      "lm_an 0.06041269\n",
      "lm_the 0.047175456\n",
      "lm_zero 0.03832056\n",
      "corr_prob 0.023184154\n",
      "init_prob 0.018260548\n",
      "the_init 0.007634675\n",
      "zero_init 0.0071124025\n",
      "a_init 0.0057687378\n",
      "the_lm 0.0049520936\n",
      "a_lm 0.0038363293\n",
      "zero_lm 0.0038173376\n",
      "an_init 0.0026968254\n",
      "an_lm 0.0016475325\n",
      "the_ml 0.0016332887\n",
      "a_ml 0.00043206185\n",
      "an_ml 0.00014243797\n",
      "zero 4.747932e-06\n",
      "zero_ml 0.0\n"
     ]
    }
   ],
   "source": [
    "feature_names = list(X.drop(['Initial','ML_L1','LM'],axis=1).columns) + [x+'_init' for x in ['a','an','the','zero']] + \\\n",
    "                [x+'_lm' for x in ['a','an','the','zero']] + [x+'_ml' for x in ['a','an','the','zero']]\n",
    "for name,imp in sorted(zip(feature_names,xgb.feature_importances_),key=lambda x: x[1],reverse=True):\n",
    "    print(name,imp)"
   ]
  }
 ],
 "metadata": {
  "kernelspec": {
   "display_name": "Python 3",
   "language": "python",
   "name": "python3"
  },
  "language_info": {
   "codemirror_mode": {
    "name": "ipython",
    "version": 3
   },
   "file_extension": ".py",
   "mimetype": "text/x-python",
   "name": "python",
   "nbconvert_exporter": "python",
   "pygments_lexer": "ipython3",
   "version": "3.5.2"
  }
 },
 "nbformat": 4,
 "nbformat_minor": 1
}
