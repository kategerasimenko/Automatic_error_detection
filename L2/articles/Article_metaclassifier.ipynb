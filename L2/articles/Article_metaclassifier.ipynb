{
 "cells": [
  {
   "cell_type": "code",
   "execution_count": 59,
   "metadata": {
    "collapsed": false
   },
   "outputs": [],
   "source": [
    "import json\n",
    "import pandas as pd\n",
    "import numpy as np\n",
    "from sklearn.feature_extraction.text import CountVectorizer\n",
    "from sklearn.model_selection import train_test_split\n",
    "from sklearn.linear_model import LogisticRegression\n",
    "from sklearn.ensemble import RandomForestClassifier, GradientBoostingClassifier\n",
    "from scipy.sparse import csr_matrix, hstack\n",
    "from sklearn.metrics import accuracy_score, classification_report\n",
    "import pickle\n",
    "\n",
    "SEED = 7"
   ]
  },
  {
   "cell_type": "code",
   "execution_count": 5,
   "metadata": {
    "collapsed": false,
    "scrolled": true
   },
   "outputs": [],
   "source": [
    "data = pd.read_csv('articles_meta.csv',sep=';',header=None)\n",
    "data.columns = ['present','zero','a','an','the','raw_NP','Start_idx','Sent_start_idx','Initial','ML_L1','Ann']"
   ]
  },
  {
   "cell_type": "code",
   "execution_count": 9,
   "metadata": {
    "collapsed": false
   },
   "outputs": [
    {
     "data": {
      "text/html": [
       "<div>\n",
       "<table border=\"1\" class=\"dataframe\">\n",
       "  <thead>\n",
       "    <tr style=\"text-align: right;\">\n",
       "      <th></th>\n",
       "      <th>present</th>\n",
       "      <th>zero</th>\n",
       "      <th>a</th>\n",
       "      <th>an</th>\n",
       "      <th>the</th>\n",
       "      <th>raw_NP</th>\n",
       "      <th>Start_idx</th>\n",
       "      <th>Sent_start_idx</th>\n",
       "      <th>Initial</th>\n",
       "      <th>ML_L1</th>\n",
       "      <th>Ann</th>\n",
       "    </tr>\n",
       "  </thead>\n",
       "  <tbody>\n",
       "    <tr>\n",
       "      <th>0</th>\n",
       "      <td>0.561481</td>\n",
       "      <td>0.438519</td>\n",
       "      <td>0.159896</td>\n",
       "      <td>0.000604</td>\n",
       "      <td>0.839500</td>\n",
       "      <td>diagram</td>\n",
       "      <td>6</td>\n",
       "      <td>0</td>\n",
       "      <td>zero</td>\n",
       "      <td>the</td>\n",
       "      <td>zero</td>\n",
       "    </tr>\n",
       "    <tr>\n",
       "      <th>1</th>\n",
       "      <td>0.931808</td>\n",
       "      <td>0.068192</td>\n",
       "      <td>0.466231</td>\n",
       "      <td>0.000759</td>\n",
       "      <td>0.533009</td>\n",
       "      <td>the proportion</td>\n",
       "      <td>24</td>\n",
       "      <td>0</td>\n",
       "      <td>the</td>\n",
       "      <td>the</td>\n",
       "      <td>the</td>\n",
       "    </tr>\n",
       "    <tr>\n",
       "      <th>2</th>\n",
       "      <td>0.922656</td>\n",
       "      <td>0.077344</td>\n",
       "      <td>0.053483</td>\n",
       "      <td>0.000401</td>\n",
       "      <td>0.946116</td>\n",
       "      <td>population</td>\n",
       "      <td>42</td>\n",
       "      <td>0</td>\n",
       "      <td>zero</td>\n",
       "      <td>the</td>\n",
       "      <td>the</td>\n",
       "    </tr>\n",
       "    <tr>\n",
       "      <th>3</th>\n",
       "      <td>0.005603</td>\n",
       "      <td>0.994397</td>\n",
       "      <td>0.003750</td>\n",
       "      <td>0.000106</td>\n",
       "      <td>0.996144</td>\n",
       "      <td>Japan</td>\n",
       "      <td>73</td>\n",
       "      <td>0</td>\n",
       "      <td>zero</td>\n",
       "      <td>zero</td>\n",
       "      <td>zero</td>\n",
       "    </tr>\n",
       "    <tr>\n",
       "      <th>4</th>\n",
       "      <td>0.009010</td>\n",
       "      <td>0.990990</td>\n",
       "      <td>0.229016</td>\n",
       "      <td>0.000554</td>\n",
       "      <td>0.770430</td>\n",
       "      <td>Sweden</td>\n",
       "      <td>80</td>\n",
       "      <td>0</td>\n",
       "      <td>zero</td>\n",
       "      <td>zero</td>\n",
       "      <td>zero</td>\n",
       "    </tr>\n",
       "  </tbody>\n",
       "</table>\n",
       "</div>"
      ],
      "text/plain": [
       "    present      zero         a        an       the          raw_NP  \\\n",
       "0  0.561481  0.438519  0.159896  0.000604  0.839500         diagram   \n",
       "1  0.931808  0.068192  0.466231  0.000759  0.533009  the proportion   \n",
       "2  0.922656  0.077344  0.053483  0.000401  0.946116      population   \n",
       "3  0.005603  0.994397  0.003750  0.000106  0.996144           Japan   \n",
       "4  0.009010  0.990990  0.229016  0.000554  0.770430          Sweden   \n",
       "\n",
       "   Start_idx  Sent_start_idx Initial ML_L1   Ann  \n",
       "0          6               0    zero   the  zero  \n",
       "1         24               0     the   the   the  \n",
       "2         42               0    zero   the   the  \n",
       "3         73               0    zero  zero  zero  \n",
       "4         80               0    zero  zero  zero  "
      ]
     },
     "execution_count": 9,
     "metadata": {},
     "output_type": "execute_result"
    }
   ],
   "source": [
    "data.head()"
   ]
  },
  {
   "cell_type": "code",
   "execution_count": 23,
   "metadata": {
    "collapsed": false,
    "scrolled": true
   },
   "outputs": [],
   "source": [
    "with open('../lm_preds.json','r',encoding='utf-8') as f:\n",
    "    probs = json.loads(f.read())"
   ]
  },
  {
   "cell_type": "code",
   "execution_count": 26,
   "metadata": {
    "collapsed": false
   },
   "outputs": [],
   "source": [
    "init_prob = []\n",
    "corr_prob = []\n",
    "for i in range(0,len(probs),2):\n",
    "    init_prob.append(probs[i])\n",
    "    if probs[i+1] is None:\n",
    "        corr_prob.append(probs[i])\n",
    "    else:\n",
    "        corr_prob.append(probs[i+1])\n",
    "data['init_prob'] = init_prob\n",
    "data['corr_prob'] = corr_prob\n",
    "data['probs_ratio'] = data['init_prob'] / data['corr_prob']\n",
    "data['probs_delta'] = data['init_prob'] - data['corr_prob']"
   ]
  },
  {
   "cell_type": "code",
   "execution_count": 28,
   "metadata": {
    "collapsed": true
   },
   "outputs": [],
   "source": [
    "target = data['Ann']\n",
    "X = data.drop(['Ann','raw_NP','Start_idx','Sent_start_idx'],axis=1)"
   ]
  },
  {
   "cell_type": "code",
   "execution_count": 55,
   "metadata": {
    "collapsed": false
   },
   "outputs": [],
   "source": [
    "target_vect = CountVectorizer(token_pattern='.+')\n",
    "target_vect.fit(['a','an','the','zero'])\n",
    "X_sparse = hstack((X.drop(['Initial','ML_L1'],axis=1).to_sparse(),target_vect.transform(X['Initial']),\n",
    "                    target_vect.transform(X['ML_L1'])))"
   ]
  },
  {
   "cell_type": "code",
   "execution_count": 56,
   "metadata": {
    "collapsed": false
   },
   "outputs": [
    {
     "data": {
      "text/plain": [
       "(36196, 17)"
      ]
     },
     "execution_count": 56,
     "metadata": {},
     "output_type": "execute_result"
    }
   ],
   "source": [
    "X_sparse.shape"
   ]
  },
  {
   "cell_type": "code",
   "execution_count": 57,
   "metadata": {
    "collapsed": false
   },
   "outputs": [],
   "source": [
    "X_train, X_test, y_train, y_test = train_test_split(X_sparse, target, test_size=0.33, random_state=SEED)"
   ]
  },
  {
   "cell_type": "code",
   "execution_count": 58,
   "metadata": {
    "collapsed": false
   },
   "outputs": [
    {
     "name": "stdout",
     "output_type": "stream",
     "text": [
      "0.929845123483\n",
      "             precision    recall  f1-score   support\n",
      "\n",
      "          a       0.89      0.77      0.82       728\n",
      "         an       0.90      0.61      0.73       124\n",
      "        the       0.92      0.83      0.88      2609\n",
      "       zero       0.93      0.98      0.96      8484\n",
      "\n",
      "avg / total       0.93      0.93      0.93     11945\n",
      "\n"
     ]
    }
   ],
   "source": [
    "forest = RandomForestClassifier(n_estimators=100,random_state=SEED)\n",
    "forest.fit(X_train,y_train)\n",
    "f_pred = forest.predict(X_test)\n",
    "print(accuracy_score(y_test,f_pred))\n",
    "print(classification_report(y_test,f_pred))"
   ]
  },
  {
   "cell_type": "code",
   "execution_count": 53,
   "metadata": {
    "collapsed": false
   },
   "outputs": [
    {
     "name": "stdout",
     "output_type": "stream",
     "text": [
      "ml_an - 0.189059680368\n",
      "ml_a - 0.13254321983\n",
      "zero - 0.108217848917\n",
      "probs_delta - 0.106238986089\n",
      "ml_the - 0.10232936279\n",
      "probs_ratio - 0.0973938222737\n",
      "present - 0.093272680513\n",
      "init_prob - 0.0362135389829\n",
      "corr_prob - 0.0354184590302\n",
      "init_a - 0.0286558170355\n",
      "init_an - 0.0264137493171\n",
      "init_zero - 0.0233374925419\n",
      "init_the - 0.0209053423114\n"
     ]
    }
   ],
   "source": [
    "feats = ['present','zero','ml_a','ml_an','ml_the','init_prob','corr_prob','probs_ratio','probs_delta',\n",
    "        'init_a','init_an','init_the','init_zero','corr_a','corr_an','corr_the','corr_zero']\n",
    "imps = forest.feature_importances_\n",
    "for f,i in sorted(zip(feats,imps),key=lambda x: x[1],reverse=True):\n",
    "    print(f,'-',i)"
   ]
  },
  {
   "cell_type": "code",
   "execution_count": 39,
   "metadata": {
    "collapsed": false
   },
   "outputs": [
    {
     "name": "stdout",
     "output_type": "stream",
     "text": [
      "0.799162829636\n",
      "             precision    recall  f1-score   support\n",
      "\n",
      "          a       0.50      0.59      0.54       728\n",
      "         an       0.43      0.36      0.39       124\n",
      "        the       0.61      0.65      0.63      2609\n",
      "       zero       0.90      0.87      0.88      8484\n",
      "\n",
      "avg / total       0.81      0.80      0.80     11945\n",
      "\n"
     ]
    }
   ],
   "source": [
    "L1_preds = X.loc[y_test.index,'ML_L1']\n",
    "print(accuracy_score(y_test,L1_preds))\n",
    "print(classification_report(y_test,L1_preds))"
   ]
  },
  {
   "cell_type": "code",
   "execution_count": 40,
   "metadata": {
    "collapsed": false,
    "scrolled": true
   },
   "outputs": [
    {
     "name": "stdout",
     "output_type": "stream",
     "text": [
      "0.886479698619\n",
      "             precision    recall  f1-score   support\n",
      "\n",
      "          a       0.76      0.67      0.71       728\n",
      "         an       0.69      0.55      0.61       124\n",
      "        the       0.81      0.75      0.78      2609\n",
      "       zero       0.92      0.95      0.93      8484\n",
      "\n",
      "avg / total       0.88      0.89      0.88     11945\n",
      "\n"
     ]
    }
   ],
   "source": [
    "LM_preds = []\n",
    "for row in X.loc[y_test.index,['init_prob','corr_prob','Initial','ML_L1']].itertuples():\n",
    "    if row.init_prob > row.corr_prob:\n",
    "        LM_preds.append(row.Initial)\n",
    "    else:\n",
    "        LM_preds.append(row.ML_L1)\n",
    "print(accuracy_score(y_test,LM_preds))\n",
    "print(classification_report(y_test,LM_preds))"
   ]
  },
  {
   "cell_type": "code",
   "execution_count": 68,
   "metadata": {
    "collapsed": false
   },
   "outputs": [
    {
     "data": {
      "text/plain": [
       "9360"
      ]
     },
     "execution_count": 68,
     "metadata": {},
     "output_type": "execute_result"
    }
   ],
   "source": [
    "sum(L1_preds == X.loc[y_test.index,'Initial'])"
   ]
  },
  {
   "cell_type": "code",
   "execution_count": 66,
   "metadata": {
    "collapsed": false
   },
   "outputs": [
    {
     "data": {
      "text/plain": [
       "11090"
      ]
     },
     "execution_count": 66,
     "metadata": {},
     "output_type": "execute_result"
    }
   ],
   "source": [
    "sum(y_test == X.loc[y_test.index,'Initial'])"
   ]
  },
  {
   "cell_type": "markdown",
   "metadata": {},
   "source": [
    "# Train and save the model"
   ]
  },
  {
   "cell_type": "code",
   "execution_count": 60,
   "metadata": {
    "collapsed": false
   },
   "outputs": [
    {
     "data": {
      "text/plain": [
       "RandomForestClassifier(bootstrap=True, class_weight=None, criterion='gini',\n",
       "            max_depth=None, max_features='auto', max_leaf_nodes=None,\n",
       "            min_impurity_decrease=0.0, min_impurity_split=None,\n",
       "            min_samples_leaf=1, min_samples_split=2,\n",
       "            min_weight_fraction_leaf=0.0, n_estimators=100, n_jobs=1,\n",
       "            oob_score=False, random_state=7, verbose=0, warm_start=False)"
      ]
     },
     "execution_count": 60,
     "metadata": {},
     "output_type": "execute_result"
    }
   ],
   "source": [
    "forest = RandomForestClassifier(n_estimators=100,random_state=SEED)\n",
    "forest.fit(X_sparse,target)"
   ]
  },
  {
   "cell_type": "code",
   "execution_count": 63,
   "metadata": {
    "collapsed": false
   },
   "outputs": [],
   "source": [
    "with open('../../models/article_choice_vectorizer.pickle','wb') as f:\n",
    "    pickle.dump(target_vect,f)\n",
    "\n",
    "with open('../../models/article_metaclassifier_forest.pickle','wb') as f:\n",
    "    pickle.dump(forest,f)   "
   ]
  }
 ],
 "metadata": {
  "kernelspec": {
   "display_name": "Python 3",
   "language": "python",
   "name": "python3"
  },
  "language_info": {
   "codemirror_mode": {
    "name": "ipython",
    "version": 3
   },
   "file_extension": ".py",
   "mimetype": "text/x-python",
   "name": "python",
   "nbconvert_exporter": "python",
   "pygments_lexer": "ipython3",
   "version": "3.5.3"
  }
 },
 "nbformat": 4,
 "nbformat_minor": 0
}
