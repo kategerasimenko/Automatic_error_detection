{
 "cells": [
  {
   "cell_type": "code",
   "execution_count": 1,
   "metadata": {
    "collapsed": false
   },
   "outputs": [
    {
     "name": "stderr",
     "output_type": "stream",
     "text": [
      "C:\\Users\\PC1\\Anaconda3\\lib\\site-packages\\sklearn\\cross_validation.py:41: DeprecationWarning: This module was deprecated in version 0.18 in favor of the model_selection module into which all the refactored classes and functions are moved. Also note that the interface of the new CV iterators are different from that of this module. This module will be removed in 0.20.\n",
      "  \"This module will be removed in 0.20.\", DeprecationWarning)\n"
     ]
    }
   ],
   "source": [
    "import json\n",
    "import pandas as pd\n",
    "import numpy as np\n",
    "from sklearn.feature_extraction.text import CountVectorizer\n",
    "from sklearn.model_selection import train_test_split\n",
    "from sklearn.linear_model import LogisticRegression\n",
    "from sklearn.ensemble import RandomForestClassifier, GradientBoostingClassifier\n",
    "from xgboost import XGBClassifier\n",
    "from scipy.sparse import csr_matrix, hstack\n",
    "from sklearn.metrics import accuracy_score, classification_report\n",
    "import pickle\n",
    "\n",
    "SEED = 7"
   ]
  },
  {
   "cell_type": "code",
   "execution_count": 2,
   "metadata": {
    "collapsed": false,
    "scrolled": true
   },
   "outputs": [],
   "source": [
    "full_data = pd.read_csv('articles_meta.csv',sep=';',header=None)\n",
    "full_data.columns = ['present','zero','a','an','the','raw_NP','Start_idx','Sent_start_idx','Initial','ML_L1','Ann']"
   ]
  },
  {
   "cell_type": "code",
   "execution_count": 3,
   "metadata": {
    "collapsed": false,
    "scrolled": true
   },
   "outputs": [],
   "source": [
    "with open('../lm_preds.json','r',encoding='utf-8') as f:\n",
    "    probs = json.loads(f.read())"
   ]
  },
  {
   "cell_type": "code",
   "execution_count": 4,
   "metadata": {
    "collapsed": false
   },
   "outputs": [
    {
     "data": {
      "text/html": [
       "<div>\n",
       "<table border=\"1\" class=\"dataframe\">\n",
       "  <thead>\n",
       "    <tr style=\"text-align: right;\">\n",
       "      <th></th>\n",
       "      <th>present</th>\n",
       "      <th>zero</th>\n",
       "      <th>a</th>\n",
       "      <th>an</th>\n",
       "      <th>the</th>\n",
       "      <th>raw_NP</th>\n",
       "      <th>Start_idx</th>\n",
       "      <th>Sent_start_idx</th>\n",
       "      <th>Initial</th>\n",
       "      <th>ML_L1</th>\n",
       "      <th>Ann</th>\n",
       "      <th>lm_a</th>\n",
       "      <th>lm_an</th>\n",
       "      <th>lm_the</th>\n",
       "      <th>lm_zero</th>\n",
       "    </tr>\n",
       "  </thead>\n",
       "  <tbody>\n",
       "    <tr>\n",
       "      <th>0</th>\n",
       "      <td>0.561481</td>\n",
       "      <td>0.438519</td>\n",
       "      <td>0.159896</td>\n",
       "      <td>0.000604</td>\n",
       "      <td>0.839500</td>\n",
       "      <td>diagram</td>\n",
       "      <td>6</td>\n",
       "      <td>0</td>\n",
       "      <td>zero</td>\n",
       "      <td>the</td>\n",
       "      <td>zero</td>\n",
       "      <td>-54.438694</td>\n",
       "      <td>-56.489075</td>\n",
       "      <td>-53.800022</td>\n",
       "      <td>-54.50099</td>\n",
       "    </tr>\n",
       "    <tr>\n",
       "      <th>1</th>\n",
       "      <td>0.931808</td>\n",
       "      <td>0.068192</td>\n",
       "      <td>0.466231</td>\n",
       "      <td>0.000759</td>\n",
       "      <td>0.533009</td>\n",
       "      <td>the proportion</td>\n",
       "      <td>24</td>\n",
       "      <td>0</td>\n",
       "      <td>the</td>\n",
       "      <td>the</td>\n",
       "      <td>the</td>\n",
       "      <td>-54.752853</td>\n",
       "      <td>-58.973408</td>\n",
       "      <td>-54.500990</td>\n",
       "      <td>-54.94257</td>\n",
       "    </tr>\n",
       "    <tr>\n",
       "      <th>2</th>\n",
       "      <td>0.922656</td>\n",
       "      <td>0.077344</td>\n",
       "      <td>0.053483</td>\n",
       "      <td>0.000401</td>\n",
       "      <td>0.946116</td>\n",
       "      <td>population</td>\n",
       "      <td>42</td>\n",
       "      <td>0</td>\n",
       "      <td>zero</td>\n",
       "      <td>the</td>\n",
       "      <td>the</td>\n",
       "      <td>-55.030296</td>\n",
       "      <td>-59.175804</td>\n",
       "      <td>-51.809734</td>\n",
       "      <td>-54.50099</td>\n",
       "    </tr>\n",
       "    <tr>\n",
       "      <th>3</th>\n",
       "      <td>0.005603</td>\n",
       "      <td>0.994397</td>\n",
       "      <td>0.003750</td>\n",
       "      <td>0.000106</td>\n",
       "      <td>0.996144</td>\n",
       "      <td>Japan</td>\n",
       "      <td>73</td>\n",
       "      <td>0</td>\n",
       "      <td>zero</td>\n",
       "      <td>zero</td>\n",
       "      <td>zero</td>\n",
       "      <td>-57.616066</td>\n",
       "      <td>-59.286823</td>\n",
       "      <td>-57.695892</td>\n",
       "      <td>-54.50099</td>\n",
       "    </tr>\n",
       "    <tr>\n",
       "      <th>4</th>\n",
       "      <td>0.009010</td>\n",
       "      <td>0.990990</td>\n",
       "      <td>0.229016</td>\n",
       "      <td>0.000554</td>\n",
       "      <td>0.770430</td>\n",
       "      <td>Sweden</td>\n",
       "      <td>80</td>\n",
       "      <td>0</td>\n",
       "      <td>zero</td>\n",
       "      <td>zero</td>\n",
       "      <td>zero</td>\n",
       "      <td>-61.825240</td>\n",
       "      <td>-63.025627</td>\n",
       "      <td>-60.325640</td>\n",
       "      <td>-54.50099</td>\n",
       "    </tr>\n",
       "  </tbody>\n",
       "</table>\n",
       "</div>"
      ],
      "text/plain": [
       "    present      zero         a        an       the          raw_NP  \\\n",
       "0  0.561481  0.438519  0.159896  0.000604  0.839500         diagram   \n",
       "1  0.931808  0.068192  0.466231  0.000759  0.533009  the proportion   \n",
       "2  0.922656  0.077344  0.053483  0.000401  0.946116      population   \n",
       "3  0.005603  0.994397  0.003750  0.000106  0.996144           Japan   \n",
       "4  0.009010  0.990990  0.229016  0.000554  0.770430          Sweden   \n",
       "\n",
       "   Start_idx  Sent_start_idx Initial ML_L1   Ann       lm_a      lm_an  \\\n",
       "0          6               0    zero   the  zero -54.438694 -56.489075   \n",
       "1         24               0     the   the   the -54.752853 -58.973408   \n",
       "2         42               0    zero   the   the -55.030296 -59.175804   \n",
       "3         73               0    zero  zero  zero -57.616066 -59.286823   \n",
       "4         80               0    zero  zero  zero -61.825240 -63.025627   \n",
       "\n",
       "      lm_the   lm_zero  \n",
       "0 -53.800022 -54.50099  \n",
       "1 -54.500990 -54.94257  \n",
       "2 -51.809734 -54.50099  \n",
       "3 -57.695892 -54.50099  \n",
       "4 -60.325640 -54.50099  "
      ]
     },
     "execution_count": 4,
     "metadata": {},
     "output_type": "execute_result"
    }
   ],
   "source": [
    "full_data = pd.concat((full_data,pd.DataFrame(probs,columns=['lm_a','lm_an','lm_the','lm_zero'])),axis=1)\n",
    "full_data.head()"
   ]
  },
  {
   "cell_type": "code",
   "execution_count": 5,
   "metadata": {
    "collapsed": false
   },
   "outputs": [],
   "source": [
    "probs_ratio = []\n",
    "probs_delta = []\n",
    "init_probs = []\n",
    "corr_probs = []\n",
    "lm_choice = []\n",
    "for i in range(full_data.shape[0]):\n",
    "    row = full_data.iloc[i]\n",
    "    init_prob = row['lm_'+row['Initial']]\n",
    "    corr_prob = row['lm_'+row['ML_L1']]\n",
    "    init_probs.append(init_prob)\n",
    "    corr_probs.append(corr_prob)\n",
    "    probs_ratio.append(init_prob / corr_prob)\n",
    "    probs_delta.append(init_prob - corr_prob)\n",
    "    lm_choice.append(np.argmax(row[['lm_a','lm_an','lm_the','lm_zero']]).split('_')[1])\n",
    "full_data['init_prob'] = init_probs\n",
    "full_data['corr_prob'] = corr_probs\n",
    "full_data['probs_ratio'] = probs_ratio\n",
    "full_data['probs_delta'] = probs_delta\n",
    "full_data['LM'] = lm_choice"
   ]
  },
  {
   "cell_type": "code",
   "execution_count": 6,
   "metadata": {
    "collapsed": false,
    "scrolled": true
   },
   "outputs": [
    {
     "data": {
      "text/html": [
       "<div>\n",
       "<table border=\"1\" class=\"dataframe\">\n",
       "  <thead>\n",
       "    <tr style=\"text-align: right;\">\n",
       "      <th></th>\n",
       "      <th>present</th>\n",
       "      <th>zero</th>\n",
       "      <th>a</th>\n",
       "      <th>an</th>\n",
       "      <th>the</th>\n",
       "      <th>raw_NP</th>\n",
       "      <th>Start_idx</th>\n",
       "      <th>Sent_start_idx</th>\n",
       "      <th>Initial</th>\n",
       "      <th>ML_L1</th>\n",
       "      <th>Ann</th>\n",
       "      <th>lm_a</th>\n",
       "      <th>lm_an</th>\n",
       "      <th>lm_the</th>\n",
       "      <th>lm_zero</th>\n",
       "      <th>init_prob</th>\n",
       "      <th>corr_prob</th>\n",
       "      <th>probs_ratio</th>\n",
       "      <th>probs_delta</th>\n",
       "      <th>LM</th>\n",
       "    </tr>\n",
       "  </thead>\n",
       "  <tbody>\n",
       "    <tr>\n",
       "      <th>0</th>\n",
       "      <td>0.561481</td>\n",
       "      <td>0.438519</td>\n",
       "      <td>0.159896</td>\n",
       "      <td>0.000604</td>\n",
       "      <td>0.839500</td>\n",
       "      <td>diagram</td>\n",
       "      <td>6</td>\n",
       "      <td>0</td>\n",
       "      <td>zero</td>\n",
       "      <td>the</td>\n",
       "      <td>zero</td>\n",
       "      <td>-54.438694</td>\n",
       "      <td>-56.489075</td>\n",
       "      <td>-53.800022</td>\n",
       "      <td>-54.50099</td>\n",
       "      <td>-54.50099</td>\n",
       "      <td>-53.800022</td>\n",
       "      <td>1.013029</td>\n",
       "      <td>-0.700968</td>\n",
       "      <td>the</td>\n",
       "    </tr>\n",
       "    <tr>\n",
       "      <th>1</th>\n",
       "      <td>0.931808</td>\n",
       "      <td>0.068192</td>\n",
       "      <td>0.466231</td>\n",
       "      <td>0.000759</td>\n",
       "      <td>0.533009</td>\n",
       "      <td>the proportion</td>\n",
       "      <td>24</td>\n",
       "      <td>0</td>\n",
       "      <td>the</td>\n",
       "      <td>the</td>\n",
       "      <td>the</td>\n",
       "      <td>-54.752853</td>\n",
       "      <td>-58.973408</td>\n",
       "      <td>-54.500990</td>\n",
       "      <td>-54.94257</td>\n",
       "      <td>-54.50099</td>\n",
       "      <td>-54.500990</td>\n",
       "      <td>1.000000</td>\n",
       "      <td>0.000000</td>\n",
       "      <td>the</td>\n",
       "    </tr>\n",
       "    <tr>\n",
       "      <th>2</th>\n",
       "      <td>0.922656</td>\n",
       "      <td>0.077344</td>\n",
       "      <td>0.053483</td>\n",
       "      <td>0.000401</td>\n",
       "      <td>0.946116</td>\n",
       "      <td>population</td>\n",
       "      <td>42</td>\n",
       "      <td>0</td>\n",
       "      <td>zero</td>\n",
       "      <td>the</td>\n",
       "      <td>the</td>\n",
       "      <td>-55.030296</td>\n",
       "      <td>-59.175804</td>\n",
       "      <td>-51.809734</td>\n",
       "      <td>-54.50099</td>\n",
       "      <td>-54.50099</td>\n",
       "      <td>-51.809734</td>\n",
       "      <td>1.051945</td>\n",
       "      <td>-2.691256</td>\n",
       "      <td>the</td>\n",
       "    </tr>\n",
       "    <tr>\n",
       "      <th>3</th>\n",
       "      <td>0.005603</td>\n",
       "      <td>0.994397</td>\n",
       "      <td>0.003750</td>\n",
       "      <td>0.000106</td>\n",
       "      <td>0.996144</td>\n",
       "      <td>Japan</td>\n",
       "      <td>73</td>\n",
       "      <td>0</td>\n",
       "      <td>zero</td>\n",
       "      <td>zero</td>\n",
       "      <td>zero</td>\n",
       "      <td>-57.616066</td>\n",
       "      <td>-59.286823</td>\n",
       "      <td>-57.695892</td>\n",
       "      <td>-54.50099</td>\n",
       "      <td>-54.50099</td>\n",
       "      <td>-54.500990</td>\n",
       "      <td>1.000000</td>\n",
       "      <td>0.000000</td>\n",
       "      <td>zero</td>\n",
       "    </tr>\n",
       "    <tr>\n",
       "      <th>4</th>\n",
       "      <td>0.009010</td>\n",
       "      <td>0.990990</td>\n",
       "      <td>0.229016</td>\n",
       "      <td>0.000554</td>\n",
       "      <td>0.770430</td>\n",
       "      <td>Sweden</td>\n",
       "      <td>80</td>\n",
       "      <td>0</td>\n",
       "      <td>zero</td>\n",
       "      <td>zero</td>\n",
       "      <td>zero</td>\n",
       "      <td>-61.825240</td>\n",
       "      <td>-63.025627</td>\n",
       "      <td>-60.325640</td>\n",
       "      <td>-54.50099</td>\n",
       "      <td>-54.50099</td>\n",
       "      <td>-54.500990</td>\n",
       "      <td>1.000000</td>\n",
       "      <td>0.000000</td>\n",
       "      <td>zero</td>\n",
       "    </tr>\n",
       "  </tbody>\n",
       "</table>\n",
       "</div>"
      ],
      "text/plain": [
       "    present      zero         a        an       the          raw_NP  \\\n",
       "0  0.561481  0.438519  0.159896  0.000604  0.839500         diagram   \n",
       "1  0.931808  0.068192  0.466231  0.000759  0.533009  the proportion   \n",
       "2  0.922656  0.077344  0.053483  0.000401  0.946116      population   \n",
       "3  0.005603  0.994397  0.003750  0.000106  0.996144           Japan   \n",
       "4  0.009010  0.990990  0.229016  0.000554  0.770430          Sweden   \n",
       "\n",
       "   Start_idx  Sent_start_idx Initial ML_L1   Ann       lm_a      lm_an  \\\n",
       "0          6               0    zero   the  zero -54.438694 -56.489075   \n",
       "1         24               0     the   the   the -54.752853 -58.973408   \n",
       "2         42               0    zero   the   the -55.030296 -59.175804   \n",
       "3         73               0    zero  zero  zero -57.616066 -59.286823   \n",
       "4         80               0    zero  zero  zero -61.825240 -63.025627   \n",
       "\n",
       "      lm_the   lm_zero  init_prob  corr_prob  probs_ratio  probs_delta    LM  \n",
       "0 -53.800022 -54.50099  -54.50099 -53.800022     1.013029    -0.700968   the  \n",
       "1 -54.500990 -54.94257  -54.50099 -54.500990     1.000000     0.000000   the  \n",
       "2 -51.809734 -54.50099  -54.50099 -51.809734     1.051945    -2.691256   the  \n",
       "3 -57.695892 -54.50099  -54.50099 -54.500990     1.000000     0.000000  zero  \n",
       "4 -60.325640 -54.50099  -54.50099 -54.500990     1.000000     0.000000  zero  "
      ]
     },
     "execution_count": 6,
     "metadata": {},
     "output_type": "execute_result"
    }
   ],
   "source": [
    "full_data.head()"
   ]
  },
  {
   "cell_type": "code",
   "execution_count": 7,
   "metadata": {
    "collapsed": false
   },
   "outputs": [
    {
     "data": {
      "text/html": [
       "<div>\n",
       "<table border=\"1\" class=\"dataframe\">\n",
       "  <thead>\n",
       "    <tr style=\"text-align: right;\">\n",
       "      <th></th>\n",
       "      <th>present</th>\n",
       "      <th>zero</th>\n",
       "      <th>a</th>\n",
       "      <th>an</th>\n",
       "      <th>the</th>\n",
       "      <th>raw_NP</th>\n",
       "      <th>Start_idx</th>\n",
       "      <th>Sent_start_idx</th>\n",
       "      <th>Initial</th>\n",
       "      <th>ML_L1</th>\n",
       "      <th>Ann</th>\n",
       "      <th>lm_a</th>\n",
       "      <th>lm_an</th>\n",
       "      <th>lm_the</th>\n",
       "      <th>lm_zero</th>\n",
       "      <th>init_prob</th>\n",
       "      <th>corr_prob</th>\n",
       "      <th>probs_ratio</th>\n",
       "      <th>probs_delta</th>\n",
       "      <th>LM</th>\n",
       "    </tr>\n",
       "  </thead>\n",
       "  <tbody>\n",
       "    <tr>\n",
       "      <th>0</th>\n",
       "      <td>0.561481</td>\n",
       "      <td>0.438519</td>\n",
       "      <td>0.159896</td>\n",
       "      <td>0.000604</td>\n",
       "      <td>0.839500</td>\n",
       "      <td>diagram</td>\n",
       "      <td>6</td>\n",
       "      <td>0</td>\n",
       "      <td>zero</td>\n",
       "      <td>the</td>\n",
       "      <td>zero</td>\n",
       "      <td>-54.438694</td>\n",
       "      <td>-56.489075</td>\n",
       "      <td>-53.800022</td>\n",
       "      <td>-54.50099</td>\n",
       "      <td>-54.50099</td>\n",
       "      <td>-53.800022</td>\n",
       "      <td>1.013029</td>\n",
       "      <td>-0.700968</td>\n",
       "      <td>the</td>\n",
       "    </tr>\n",
       "    <tr>\n",
       "      <th>2</th>\n",
       "      <td>0.922656</td>\n",
       "      <td>0.077344</td>\n",
       "      <td>0.053483</td>\n",
       "      <td>0.000401</td>\n",
       "      <td>0.946116</td>\n",
       "      <td>population</td>\n",
       "      <td>42</td>\n",
       "      <td>0</td>\n",
       "      <td>zero</td>\n",
       "      <td>the</td>\n",
       "      <td>the</td>\n",
       "      <td>-55.030296</td>\n",
       "      <td>-59.175804</td>\n",
       "      <td>-51.809734</td>\n",
       "      <td>-54.50099</td>\n",
       "      <td>-54.50099</td>\n",
       "      <td>-51.809734</td>\n",
       "      <td>1.051945</td>\n",
       "      <td>-2.691256</td>\n",
       "      <td>the</td>\n",
       "    </tr>\n",
       "    <tr>\n",
       "      <th>6</th>\n",
       "      <td>0.221908</td>\n",
       "      <td>0.778092</td>\n",
       "      <td>0.001581</td>\n",
       "      <td>0.000004</td>\n",
       "      <td>0.998415</td>\n",
       "      <td>the countries</td>\n",
       "      <td>10</td>\n",
       "      <td>129</td>\n",
       "      <td>the</td>\n",
       "      <td>zero</td>\n",
       "      <td>the</td>\n",
       "      <td>-106.542984</td>\n",
       "      <td>-107.162920</td>\n",
       "      <td>-101.660370</td>\n",
       "      <td>-103.46805</td>\n",
       "      <td>-101.66037</td>\n",
       "      <td>-103.468050</td>\n",
       "      <td>0.982529</td>\n",
       "      <td>1.807680</td>\n",
       "      <td>the</td>\n",
       "    </tr>\n",
       "    <tr>\n",
       "      <th>7</th>\n",
       "      <td>0.479154</td>\n",
       "      <td>0.520846</td>\n",
       "      <td>0.293543</td>\n",
       "      <td>0.000239</td>\n",
       "      <td>0.706218</td>\n",
       "      <td>the proportion</td>\n",
       "      <td>25</td>\n",
       "      <td>129</td>\n",
       "      <td>the</td>\n",
       "      <td>zero</td>\n",
       "      <td>the</td>\n",
       "      <td>-104.421460</td>\n",
       "      <td>-107.193010</td>\n",
       "      <td>-101.660370</td>\n",
       "      <td>-104.30438</td>\n",
       "      <td>-101.66037</td>\n",
       "      <td>-104.304380</td>\n",
       "      <td>0.974651</td>\n",
       "      <td>2.644010</td>\n",
       "      <td>the</td>\n",
       "    </tr>\n",
       "    <tr>\n",
       "      <th>10</th>\n",
       "      <td>0.929846</td>\n",
       "      <td>0.070154</td>\n",
       "      <td>0.013446</td>\n",
       "      <td>0.153751</td>\n",
       "      <td>0.832803</td>\n",
       "      <td>an exception</td>\n",
       "      <td>97</td>\n",
       "      <td>129</td>\n",
       "      <td>an</td>\n",
       "      <td>the</td>\n",
       "      <td>an</td>\n",
       "      <td>-107.136630</td>\n",
       "      <td>-101.660370</td>\n",
       "      <td>-104.450485</td>\n",
       "      <td>-104.91199</td>\n",
       "      <td>-101.66037</td>\n",
       "      <td>-104.450485</td>\n",
       "      <td>0.973288</td>\n",
       "      <td>2.790115</td>\n",
       "      <td>an</td>\n",
       "    </tr>\n",
       "  </tbody>\n",
       "</table>\n",
       "</div>"
      ],
      "text/plain": [
       "     present      zero         a        an       the          raw_NP  \\\n",
       "0   0.561481  0.438519  0.159896  0.000604  0.839500         diagram   \n",
       "2   0.922656  0.077344  0.053483  0.000401  0.946116      population   \n",
       "6   0.221908  0.778092  0.001581  0.000004  0.998415   the countries   \n",
       "7   0.479154  0.520846  0.293543  0.000239  0.706218  the proportion   \n",
       "10  0.929846  0.070154  0.013446  0.153751  0.832803    an exception   \n",
       "\n",
       "    Start_idx  Sent_start_idx Initial ML_L1   Ann        lm_a       lm_an  \\\n",
       "0           6               0    zero   the  zero  -54.438694  -56.489075   \n",
       "2          42               0    zero   the   the  -55.030296  -59.175804   \n",
       "6          10             129     the  zero   the -106.542984 -107.162920   \n",
       "7          25             129     the  zero   the -104.421460 -107.193010   \n",
       "10         97             129      an   the    an -107.136630 -101.660370   \n",
       "\n",
       "        lm_the    lm_zero  init_prob   corr_prob  probs_ratio  probs_delta  \\\n",
       "0   -53.800022  -54.50099  -54.50099  -53.800022     1.013029    -0.700968   \n",
       "2   -51.809734  -54.50099  -54.50099  -51.809734     1.051945    -2.691256   \n",
       "6  -101.660370 -103.46805 -101.66037 -103.468050     0.982529     1.807680   \n",
       "7  -101.660370 -104.30438 -101.66037 -104.304380     0.974651     2.644010   \n",
       "10 -104.450485 -104.91199 -101.66037 -104.450485     0.973288     2.790115   \n",
       "\n",
       "     LM  \n",
       "0   the  \n",
       "2   the  \n",
       "6   the  \n",
       "7   the  \n",
       "10   an  "
      ]
     },
     "execution_count": 7,
     "metadata": {},
     "output_type": "execute_result"
    }
   ],
   "source": [
    "data = full_data.loc[(full_data['Initial'] != full_data['ML_L1']) | (full_data['Initial'] != full_data['LM']),:]\n",
    "data.head()"
   ]
  },
  {
   "cell_type": "code",
   "execution_count": 8,
   "metadata": {
    "collapsed": false
   },
   "outputs": [
    {
     "data": {
      "text/plain": [
       "(11213, 20)"
      ]
     },
     "execution_count": 8,
     "metadata": {},
     "output_type": "execute_result"
    }
   ],
   "source": [
    "data.shape"
   ]
  },
  {
   "cell_type": "code",
   "execution_count": 9,
   "metadata": {
    "collapsed": true
   },
   "outputs": [],
   "source": [
    "target = data['Ann']\n",
    "X = data.drop(['Ann','raw_NP','Start_idx','Sent_start_idx'],axis=1)"
   ]
  },
  {
   "cell_type": "code",
   "execution_count": 10,
   "metadata": {
    "collapsed": false
   },
   "outputs": [],
   "source": [
    "target_vect = CountVectorizer(token_pattern='.+')\n",
    "target_vect.fit(['a','an','the','zero'])\n",
    "X_sparse = hstack((X.drop(['Initial','ML_L1','LM','lm_a','lm_an','lm_the','lm_zero'],axis=1).to_sparse(),\n",
    "                   target_vect.transform(X['Initial']),\n",
    "                   target_vect.transform(X['LM']),\n",
    "                   target_vect.transform(X['ML_L1'])))"
   ]
  },
  {
   "cell_type": "code",
   "execution_count": 11,
   "metadata": {
    "collapsed": false
   },
   "outputs": [
    {
     "data": {
      "text/plain": [
       "(11213, 21)"
      ]
     },
     "execution_count": 11,
     "metadata": {},
     "output_type": "execute_result"
    }
   ],
   "source": [
    "X_sparse.shape"
   ]
  },
  {
   "cell_type": "code",
   "execution_count": 12,
   "metadata": {
    "collapsed": false
   },
   "outputs": [],
   "source": [
    "X_train, X_test, y_train, y_test = train_test_split(X_sparse, target, test_size=0.33, random_state=SEED)"
   ]
  },
  {
   "cell_type": "code",
   "execution_count": 80,
   "metadata": {
    "collapsed": false,
    "scrolled": false
   },
   "outputs": [
    {
     "name": "stdout",
     "output_type": "stream",
     "text": [
      "0.819508241016\n",
      "             precision    recall  f1-score   support\n",
      "\n",
      "          a       0.84      0.70      0.77       467\n",
      "         an       0.87      0.57      0.69        82\n",
      "        the       0.88      0.78      0.83      1458\n",
      "       zero       0.77      0.90      0.83      1694\n",
      "\n",
      "avg / total       0.83      0.82      0.82      3701\n",
      "\n"
     ]
    }
   ],
   "source": [
    "xgb = XGBClassifier(seed=SEED)\n",
    "xgb.fit(X_train,y_train)\n",
    "x_pred = xgb.predict(X_test)\n",
    "print(accuracy_score(y_test,x_pred))\n",
    "print(classification_report(y_test,x_pred))"
   ]
  },
  {
   "cell_type": "code",
   "execution_count": 47,
   "metadata": {
    "collapsed": false
   },
   "outputs": [],
   "source": [
    "test_data = data.loc[y_test.index]\n",
    "test_data['Preds'] = x_pred\n",
    "not_same = test_data.loc[(y_test != test_data['ML_L1']) & (y_test != test_data['Initial']),['Initial','ML_L1','Preds','Ann']]"
   ]
  },
  {
   "cell_type": "code",
   "execution_count": 48,
   "metadata": {
    "collapsed": false
   },
   "outputs": [
    {
     "data": {
      "text/html": [
       "<div>\n",
       "<table border=\"1\" class=\"dataframe\">\n",
       "  <thead>\n",
       "    <tr style=\"text-align: right;\">\n",
       "      <th></th>\n",
       "      <th>Initial</th>\n",
       "      <th>ML_L1</th>\n",
       "      <th>Preds</th>\n",
       "      <th>Ann</th>\n",
       "    </tr>\n",
       "  </thead>\n",
       "  <tbody>\n",
       "    <tr>\n",
       "      <th>945</th>\n",
       "      <td>the</td>\n",
       "      <td>zero</td>\n",
       "      <td>a</td>\n",
       "      <td>a</td>\n",
       "    </tr>\n",
       "    <tr>\n",
       "      <th>16330</th>\n",
       "      <td>a</td>\n",
       "      <td>the</td>\n",
       "      <td>an</td>\n",
       "      <td>an</td>\n",
       "    </tr>\n",
       "  </tbody>\n",
       "</table>\n",
       "</div>"
      ],
      "text/plain": [
       "      Initial ML_L1 Preds Ann\n",
       "945       the  zero     a   a\n",
       "16330       a   the    an  an"
      ]
     },
     "execution_count": 48,
     "metadata": {},
     "output_type": "execute_result"
    }
   ],
   "source": [
    "not_same[not_same['Preds'] == not_same['Ann']]"
   ]
  },
  {
   "cell_type": "code",
   "execution_count": 49,
   "metadata": {
    "collapsed": false
   },
   "outputs": [
    {
     "data": {
      "text/html": [
       "<div>\n",
       "<table border=\"1\" class=\"dataframe\">\n",
       "  <thead>\n",
       "    <tr style=\"text-align: right;\">\n",
       "      <th></th>\n",
       "      <th>Initial</th>\n",
       "      <th>ML_L1</th>\n",
       "      <th>Preds</th>\n",
       "      <th>Ann</th>\n",
       "    </tr>\n",
       "  </thead>\n",
       "  <tbody>\n",
       "    <tr>\n",
       "      <th>22210</th>\n",
       "      <td>zero</td>\n",
       "      <td>a</td>\n",
       "      <td>the</td>\n",
       "      <td>a</td>\n",
       "    </tr>\n",
       "    <tr>\n",
       "      <th>22863</th>\n",
       "      <td>the</td>\n",
       "      <td>zero</td>\n",
       "      <td>a</td>\n",
       "      <td>the</td>\n",
       "    </tr>\n",
       "    <tr>\n",
       "      <th>945</th>\n",
       "      <td>the</td>\n",
       "      <td>zero</td>\n",
       "      <td>a</td>\n",
       "      <td>a</td>\n",
       "    </tr>\n",
       "    <tr>\n",
       "      <th>5021</th>\n",
       "      <td>zero</td>\n",
       "      <td>a</td>\n",
       "      <td>the</td>\n",
       "      <td>zero</td>\n",
       "    </tr>\n",
       "    <tr>\n",
       "      <th>16330</th>\n",
       "      <td>a</td>\n",
       "      <td>the</td>\n",
       "      <td>an</td>\n",
       "      <td>an</td>\n",
       "    </tr>\n",
       "  </tbody>\n",
       "</table>\n",
       "</div>"
      ],
      "text/plain": [
       "      Initial ML_L1 Preds   Ann\n",
       "22210    zero     a   the     a\n",
       "22863     the  zero     a   the\n",
       "945       the  zero     a     a\n",
       "5021     zero     a   the  zero\n",
       "16330       a   the    an    an"
      ]
     },
     "execution_count": 49,
     "metadata": {},
     "output_type": "execute_result"
    }
   ],
   "source": [
    "test_data.loc[(x_pred != test_data['ML_L1']) & (x_pred != test_data['Initial']),['Initial','ML_L1','Preds','Ann']]"
   ]
  },
  {
   "cell_type": "code",
   "execution_count": 38,
   "metadata": {
    "collapsed": false
   },
   "outputs": [
    {
     "name": "stdout",
     "output_type": "stream",
     "text": [
      "0.784954407295\n",
      "             precision    recall  f1-score   support\n",
      "\n",
      "          a       0.80      0.70      0.75       359\n",
      "         an       0.82      0.66      0.73        77\n",
      "        the       0.82      0.76      0.79       996\n",
      "       zero       0.75      0.84      0.79      1200\n",
      "\n",
      "avg / total       0.79      0.78      0.78      2632\n",
      "\n"
     ]
    }
   ],
   "source": [
    "forest = RandomForestClassifier(n_estimators=300,random_state=SEED)\n",
    "forest.fit(X_train,y_train)\n",
    "f_pred = forest.predict(X_test)\n",
    "print(accuracy_score(y_test,f_pred))\n",
    "print(classification_report(y_test,f_pred))"
   ]
  },
  {
   "cell_type": "code",
   "execution_count": 37,
   "metadata": {
    "collapsed": false
   },
   "outputs": [
    {
     "name": "stdout",
     "output_type": "stream",
     "text": [
      "0.790273556231\n",
      "             precision    recall  f1-score   support\n",
      "\n",
      "          a       0.82      0.68      0.75       359\n",
      "         an       0.80      0.64      0.71        77\n",
      "        the       0.87      0.73      0.79       996\n",
      "       zero       0.74      0.88      0.80      1200\n",
      "\n",
      "avg / total       0.80      0.79      0.79      2632\n",
      "\n"
     ]
    }
   ],
   "source": [
    "logit = LogisticRegression(random_state=SEED)\n",
    "logit.fit(X_train,y_train)\n",
    "l_pred = logit.predict(X_test)\n",
    "print(accuracy_score(y_test,l_pred))\n",
    "print(classification_report(y_test,l_pred))"
   ]
  },
  {
   "cell_type": "code",
   "execution_count": 34,
   "metadata": {
    "collapsed": false
   },
   "outputs": [
    {
     "name": "stdout",
     "output_type": "stream",
     "text": [
      "init_the - 0.118495433265\n",
      "init_zero - 0.0985645221145\n",
      "init_a - 0.0823167659037\n",
      "zero - 0.0805626130461\n",
      "present - 0.0790257154328\n",
      "probs_delta - 0.0710716376968\n",
      "probs_ratio - 0.0697842861776\n",
      "ml_a - 0.0692898836246\n",
      "ml_the - 0.0649227469684\n",
      "ml_an - 0.0641604327396\n",
      "corr_prob - 0.0518712162127\n",
      "init_prob - 0.051343238892\n",
      "init_an - 0.0197780372385\n",
      "corr_the - 0.0163153147678\n",
      "corr_zero - 0.0156236370571\n",
      "lm_an - 0.0125670240678\n",
      "corr_a - 0.0121701481888\n",
      "lm_the - 0.0115679073338\n",
      "lm_zero - 0.00464117517574\n",
      "lm_a - 0.00435974889176\n",
      "corr_an - 0.00156851520452\n"
     ]
    }
   ],
   "source": [
    "feats = ['present','zero','ml_a','ml_an','ml_the',\n",
    "         'init_prob','corr_prob','probs_ratio','probs_delta',\n",
    "        'init_a','init_an','init_the','init_zero','corr_a','lm_a','lm_an','lm_the','lm_zero','corr_an','corr_the','corr_zero']\n",
    "imps = forest.feature_importances_\n",
    "for f,i in sorted(zip(feats,imps),key=lambda x: x[1],reverse=True):\n",
    "    print(f,'-',i)"
   ]
  },
  {
   "cell_type": "code",
   "execution_count": 68,
   "metadata": {
    "collapsed": false,
    "scrolled": true
   },
   "outputs": [
    {
     "name": "stdout",
     "output_type": "stream",
     "text": [
      "0.374223182924\n",
      "             precision    recall  f1-score   support\n",
      "\n",
      "          a       0.28      0.35      0.31       467\n",
      "         an       0.20      0.22      0.21        82\n",
      "        the       0.37      0.45      0.41      1458\n",
      "       zero       0.43      0.33      0.37      1694\n",
      "\n",
      "avg / total       0.38      0.37      0.37      3701\n",
      "\n"
     ]
    }
   ],
   "source": [
    "L1_preds = X.loc[y_test.index,'ML_L1']\n",
    "print(accuracy_score(y_test,L1_preds))\n",
    "print(classification_report(y_test,L1_preds))"
   ]
  },
  {
   "cell_type": "code",
   "execution_count": 69,
   "metadata": {
    "collapsed": false
   },
   "outputs": [
    {
     "name": "stdout",
     "output_type": "stream",
     "text": [
      "0.41664415023\n",
      "             precision    recall  f1-score   support\n",
      "\n",
      "          a       0.35      0.37      0.36       467\n",
      "         an       0.37      0.49      0.42        82\n",
      "        the       0.41      0.39      0.40      1458\n",
      "       zero       0.44      0.45      0.45      1694\n",
      "\n",
      "avg / total       0.42      0.42      0.42      3701\n",
      "\n"
     ]
    }
   ],
   "source": [
    "L1_preds = X.loc[y_test.index,'LM']\n",
    "print(accuracy_score(y_test,L1_preds))\n",
    "print(classification_report(y_test,L1_preds))"
   ]
  },
  {
   "cell_type": "code",
   "execution_count": 52,
   "metadata": {
    "collapsed": false,
    "scrolled": true
   },
   "outputs": [
    {
     "name": "stdout",
     "output_type": "stream",
     "text": [
      "0.565349544073\n",
      "             precision    recall  f1-score   support\n",
      "\n",
      "          a       0.54      0.48      0.51       359\n",
      "         an       0.57      0.47      0.51        77\n",
      "        the       0.53      0.48      0.51       996\n",
      "       zero       0.59      0.67      0.63      1200\n",
      "\n",
      "avg / total       0.56      0.57      0.56      2632\n",
      "\n"
     ]
    }
   ],
   "source": [
    "LM_preds = []\n",
    "for row in X.loc[y_test.index,['init_prob','corr_prob','Initial','ML_L1']].itertuples():\n",
    "    if row.init_prob > row.corr_prob:\n",
    "        LM_preds.append(row.Initial)\n",
    "    else:\n",
    "        LM_preds.append(row.ML_L1)\n",
    "print(accuracy_score(y_test,LM_preds))\n",
    "print(classification_report(y_test,LM_preds))"
   ]
  },
  {
   "cell_type": "code",
   "execution_count": 68,
   "metadata": {
    "collapsed": false
   },
   "outputs": [
    {
     "data": {
      "text/plain": [
       "9360"
      ]
     },
     "execution_count": 68,
     "metadata": {},
     "output_type": "execute_result"
    }
   ],
   "source": [
    "sum(L1_preds == X.loc[y_test.index,'Initial'])"
   ]
  },
  {
   "cell_type": "code",
   "execution_count": 19,
   "metadata": {
    "collapsed": false,
    "scrolled": true
   },
   "outputs": [
    {
     "data": {
      "text/plain": [
       "(2632, 2546)"
      ]
     },
     "execution_count": 19,
     "metadata": {},
     "output_type": "execute_result"
    }
   ],
   "source": [
    "len(x_pred),sum(x_pred == X.loc[y_test.index,'Initial'])"
   ]
  },
  {
   "cell_type": "markdown",
   "metadata": {},
   "source": [
    "# Train and save the model"
   ]
  },
  {
   "cell_type": "code",
   "execution_count": 13,
   "metadata": {
    "collapsed": false
   },
   "outputs": [
    {
     "data": {
      "text/plain": [
       "XGBClassifier(base_score=0.5, colsample_bylevel=1, colsample_bytree=1,\n",
       "       gamma=0, learning_rate=0.1, max_delta_step=0, max_depth=10,\n",
       "       min_child_weight=1, missing=None, n_estimators=500, nthread=-1,\n",
       "       objective='multi:softprob', reg_alpha=0, reg_lambda=1,\n",
       "       scale_pos_weight=1, seed=7, silent=True, subsample=1)"
      ]
     },
     "execution_count": 13,
     "metadata": {},
     "output_type": "execute_result"
    }
   ],
   "source": [
    "xgb = XGBClassifier(n_estimators=500,max_depth=10,seed=SEED)\n",
    "xgb.fit(X_sparse,target)"
   ]
  },
  {
   "cell_type": "code",
   "execution_count": 14,
   "metadata": {
    "collapsed": false
   },
   "outputs": [],
   "source": [
    "with open('../../models/article_choice_vectorizer.pickle','wb') as f:\n",
    "    pickle.dump(target_vect,f)\n",
    "\n",
    "with open('../../models/article_metaclassifier_xgboost.pickle','wb') as f:\n",
    "    pickle.dump(xgb,f)   "
   ]
  }
 ],
 "metadata": {
  "kernelspec": {
   "display_name": "Python 3",
   "language": "python",
   "name": "python3"
  },
  "language_info": {
   "codemirror_mode": {
    "name": "ipython",
    "version": 3
   },
   "file_extension": ".py",
   "mimetype": "text/x-python",
   "name": "python",
   "nbconvert_exporter": "python",
   "pygments_lexer": "ipython3",
   "version": "3.5.3"
  }
 },
 "nbformat": 4,
 "nbformat_minor": 0
}
