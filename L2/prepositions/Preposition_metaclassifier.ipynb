{
 "cells": [
  {
   "cell_type": "code",
   "execution_count": 1,
   "metadata": {
    "scrolled": false
   },
   "outputs": [],
   "source": [
    "import json\n",
    "import pandas as pd\n",
    "import numpy as np\n",
    "from sklearn.feature_extraction.text import CountVectorizer\n",
    "from sklearn.model_selection import train_test_split\n",
    "from sklearn.linear_model import LogisticRegression\n",
    "from sklearn.ensemble import RandomForestClassifier, GradientBoostingClassifier\n",
    "from xgboost import XGBClassifier\n",
    "from scipy.sparse import csr_matrix, hstack\n",
    "from sklearn.metrics import accuracy_score, classification_report\n",
    "import pickle\n",
    "import random\n",
    "\n",
    "SEED = 7"
   ]
  },
  {
   "cell_type": "code",
   "execution_count": 2,
   "metadata": {},
   "outputs": [],
   "source": [
    "with open('../prepositions.txt','r',encoding='utf-8-sig') as f:\n",
    "    full_options = f.read().split()\n",
    "    full_options.append('zero')"
   ]
  },
  {
   "cell_type": "code",
   "execution_count": 3,
   "metadata": {
    "scrolled": true
   },
   "outputs": [],
   "source": [
    "full_data = pd.read_csv('prepositions_meta.csv',sep=';',encoding='utf-8-sig')"
   ]
  },
  {
   "cell_type": "code",
   "execution_count": 4,
   "metadata": {},
   "outputs": [],
   "source": [
    "full_data.drop(['hitherto','k442','na','opera','ta','too'],axis=1,inplace=True)"
   ]
  },
  {
   "cell_type": "code",
   "execution_count": 5,
   "metadata": {
    "scrolled": true
   },
   "outputs": [
    {
     "ename": "FileNotFoundError",
     "evalue": "[Errno 2] No such file or directory: '../lm_preds_prepositions.json'",
     "output_type": "error",
     "traceback": [
      "\u001b[0;31m---------------------------------------------------------------------------\u001b[0m",
      "\u001b[0;31mFileNotFoundError\u001b[0m                         Traceback (most recent call last)",
      "\u001b[0;32m<ipython-input-5-1616072d372d>\u001b[0m in \u001b[0;36m<module>\u001b[0;34m()\u001b[0m\n\u001b[0;32m----> 1\u001b[0;31m \u001b[0;32mwith\u001b[0m \u001b[0mopen\u001b[0m\u001b[0;34m(\u001b[0m\u001b[0;34m'../lm_preds_prepositions.json'\u001b[0m\u001b[0;34m,\u001b[0m\u001b[0;34m'r'\u001b[0m\u001b[0;34m,\u001b[0m\u001b[0mencoding\u001b[0m\u001b[0;34m=\u001b[0m\u001b[0;34m'utf-8'\u001b[0m\u001b[0;34m)\u001b[0m \u001b[0;32mas\u001b[0m \u001b[0mf\u001b[0m\u001b[0;34m:\u001b[0m\u001b[0;34m\u001b[0m\u001b[0m\n\u001b[0m\u001b[1;32m      2\u001b[0m     \u001b[0mprobs\u001b[0m \u001b[0;34m=\u001b[0m \u001b[0mjson\u001b[0m\u001b[0;34m.\u001b[0m\u001b[0mloads\u001b[0m\u001b[0;34m(\u001b[0m\u001b[0mf\u001b[0m\u001b[0;34m.\u001b[0m\u001b[0mread\u001b[0m\u001b[0;34m(\u001b[0m\u001b[0;34m)\u001b[0m\u001b[0;34m)\u001b[0m\u001b[0;34m\u001b[0m\u001b[0m\n",
      "\u001b[0;31mFileNotFoundError\u001b[0m: [Errno 2] No such file or directory: '../lm_preds_prepositions.json'"
     ]
    }
   ],
   "source": [
    "with open('../lm_preds_prepositions.json','r',encoding='utf-8') as f:\n",
    "    probs = json.loads(f.read())"
   ]
  },
  {
   "cell_type": "code",
   "execution_count": 6,
   "metadata": {},
   "outputs": [
    {
     "data": {
      "text/html": [
       "<div>\n",
       "<style scoped>\n",
       "    .dataframe tbody tr th:only-of-type {\n",
       "        vertical-align: middle;\n",
       "    }\n",
       "\n",
       "    .dataframe tbody tr th {\n",
       "        vertical-align: top;\n",
       "    }\n",
       "\n",
       "    .dataframe thead th {\n",
       "        text-align: right;\n",
       "    }\n",
       "</style>\n",
       "<table border=\"1\" class=\"dataframe\">\n",
       "  <thead>\n",
       "    <tr style=\"text-align: right;\">\n",
       "      <th></th>\n",
       "      <th>present</th>\n",
       "      <th>zero</th>\n",
       "      <th>about</th>\n",
       "      <th>among</th>\n",
       "      <th>as</th>\n",
       "      <th>at</th>\n",
       "      <th>between</th>\n",
       "      <th>by</th>\n",
       "      <th>during</th>\n",
       "      <th>for</th>\n",
       "      <th>...</th>\n",
       "      <th>lm_for</th>\n",
       "      <th>lm_from</th>\n",
       "      <th>lm_in</th>\n",
       "      <th>lm_into</th>\n",
       "      <th>lm_of</th>\n",
       "      <th>lm_on</th>\n",
       "      <th>lm_over</th>\n",
       "      <th>lm_to</th>\n",
       "      <th>lm_with</th>\n",
       "      <th>lm_zero</th>\n",
       "    </tr>\n",
       "  </thead>\n",
       "  <tbody>\n",
       "    <tr>\n",
       "      <th>0</th>\n",
       "      <td>0.014882</td>\n",
       "      <td>9.851183e-01</td>\n",
       "      <td>0.021415</td>\n",
       "      <td>0.000052</td>\n",
       "      <td>0.126387</td>\n",
       "      <td>0.004439</td>\n",
       "      <td>0.000082</td>\n",
       "      <td>0.007522</td>\n",
       "      <td>0.002527</td>\n",
       "      <td>0.356270</td>\n",
       "      <td>...</td>\n",
       "      <td>-33.169220</td>\n",
       "      <td>-33.546665</td>\n",
       "      <td>-32.240340</td>\n",
       "      <td>-33.797226</td>\n",
       "      <td>-33.011402</td>\n",
       "      <td>-32.670826</td>\n",
       "      <td>-33.878326</td>\n",
       "      <td>-32.714996</td>\n",
       "      <td>-33.169025</td>\n",
       "      <td>-30.106878</td>\n",
       "    </tr>\n",
       "    <tr>\n",
       "      <th>1</th>\n",
       "      <td>1.000000</td>\n",
       "      <td>1.122606e-07</td>\n",
       "      <td>0.000154</td>\n",
       "      <td>0.008797</td>\n",
       "      <td>0.002671</td>\n",
       "      <td>0.125364</td>\n",
       "      <td>0.003533</td>\n",
       "      <td>0.000589</td>\n",
       "      <td>0.000048</td>\n",
       "      <td>0.005333</td>\n",
       "      <td>...</td>\n",
       "      <td>-29.399250</td>\n",
       "      <td>-30.085175</td>\n",
       "      <td>-29.474987</td>\n",
       "      <td>-30.328856</td>\n",
       "      <td>-29.613250</td>\n",
       "      <td>-29.882133</td>\n",
       "      <td>-32.009200</td>\n",
       "      <td>-30.204685</td>\n",
       "      <td>-30.430601</td>\n",
       "      <td>-28.897280</td>\n",
       "    </tr>\n",
       "    <tr>\n",
       "      <th>2</th>\n",
       "      <td>0.000255</td>\n",
       "      <td>9.997448e-01</td>\n",
       "      <td>0.023409</td>\n",
       "      <td>0.001858</td>\n",
       "      <td>0.179208</td>\n",
       "      <td>0.007757</td>\n",
       "      <td>0.000041</td>\n",
       "      <td>0.009895</td>\n",
       "      <td>0.000019</td>\n",
       "      <td>0.084803</td>\n",
       "      <td>...</td>\n",
       "      <td>-33.102764</td>\n",
       "      <td>-35.083813</td>\n",
       "      <td>-32.909310</td>\n",
       "      <td>-35.417470</td>\n",
       "      <td>-34.301186</td>\n",
       "      <td>-34.139107</td>\n",
       "      <td>-33.785168</td>\n",
       "      <td>-33.646137</td>\n",
       "      <td>-34.023697</td>\n",
       "      <td>-30.106878</td>\n",
       "    </tr>\n",
       "    <tr>\n",
       "      <th>3</th>\n",
       "      <td>0.003864</td>\n",
       "      <td>9.961361e-01</td>\n",
       "      <td>0.003481</td>\n",
       "      <td>0.000654</td>\n",
       "      <td>0.776202</td>\n",
       "      <td>0.035943</td>\n",
       "      <td>0.000267</td>\n",
       "      <td>0.002419</td>\n",
       "      <td>0.004328</td>\n",
       "      <td>0.011206</td>\n",
       "      <td>...</td>\n",
       "      <td>-34.267464</td>\n",
       "      <td>-34.743233</td>\n",
       "      <td>-33.945534</td>\n",
       "      <td>-35.873238</td>\n",
       "      <td>-34.973675</td>\n",
       "      <td>-34.661076</td>\n",
       "      <td>-35.534275</td>\n",
       "      <td>-35.129456</td>\n",
       "      <td>-33.852620</td>\n",
       "      <td>-31.273170</td>\n",
       "    </tr>\n",
       "    <tr>\n",
       "      <th>4</th>\n",
       "      <td>0.999961</td>\n",
       "      <td>3.919356e-05</td>\n",
       "      <td>0.039227</td>\n",
       "      <td>0.000007</td>\n",
       "      <td>0.002289</td>\n",
       "      <td>0.001446</td>\n",
       "      <td>0.000014</td>\n",
       "      <td>0.003828</td>\n",
       "      <td>0.000415</td>\n",
       "      <td>0.045707</td>\n",
       "      <td>...</td>\n",
       "      <td>-33.030487</td>\n",
       "      <td>-34.685753</td>\n",
       "      <td>-33.085075</td>\n",
       "      <td>-36.023120</td>\n",
       "      <td>-31.273170</td>\n",
       "      <td>-34.841442</td>\n",
       "      <td>-35.728390</td>\n",
       "      <td>-34.399540</td>\n",
       "      <td>-32.722183</td>\n",
       "      <td>-32.975845</td>\n",
       "    </tr>\n",
       "  </tbody>\n",
       "</table>\n",
       "<p>5 rows × 41 columns</p>\n",
       "</div>"
      ],
      "text/plain": [
       "    present          zero     about     among        as        at   between  \\\n",
       "0  0.014882  9.851183e-01  0.021415  0.000052  0.126387  0.004439  0.000082   \n",
       "1  1.000000  1.122606e-07  0.000154  0.008797  0.002671  0.125364  0.003533   \n",
       "2  0.000255  9.997448e-01  0.023409  0.001858  0.179208  0.007757  0.000041   \n",
       "3  0.003864  9.961361e-01  0.003481  0.000654  0.776202  0.035943  0.000267   \n",
       "4  0.999961  3.919356e-05  0.039227  0.000007  0.002289  0.001446  0.000014   \n",
       "\n",
       "         by    during       for    ...         lm_for    lm_from      lm_in  \\\n",
       "0  0.007522  0.002527  0.356270    ...     -33.169220 -33.546665 -32.240340   \n",
       "1  0.000589  0.000048  0.005333    ...     -29.399250 -30.085175 -29.474987   \n",
       "2  0.009895  0.000019  0.084803    ...     -33.102764 -35.083813 -32.909310   \n",
       "3  0.002419  0.004328  0.011206    ...     -34.267464 -34.743233 -33.945534   \n",
       "4  0.003828  0.000415  0.045707    ...     -33.030487 -34.685753 -33.085075   \n",
       "\n",
       "     lm_into      lm_of      lm_on    lm_over      lm_to    lm_with    lm_zero  \n",
       "0 -33.797226 -33.011402 -32.670826 -33.878326 -32.714996 -33.169025 -30.106878  \n",
       "1 -30.328856 -29.613250 -29.882133 -32.009200 -30.204685 -30.430601 -28.897280  \n",
       "2 -35.417470 -34.301186 -34.139107 -33.785168 -33.646137 -34.023697 -30.106878  \n",
       "3 -35.873238 -34.973675 -34.661076 -35.534275 -35.129456 -33.852620 -31.273170  \n",
       "4 -36.023120 -31.273170 -34.841442 -35.728390 -34.399540 -32.722183 -32.975845  \n",
       "\n",
       "[5 rows x 41 columns]"
      ]
     },
     "execution_count": 6,
     "metadata": {},
     "output_type": "execute_result"
    }
   ],
   "source": [
    "#full_data = pd.concat((full_data,pd.DataFrame(probs,columns=['lm_'+x for x in full_options])),axis=1)\n",
    "full_data = full_data.loc[pd.notnull(full_data['Ann']),:]\n",
    "full_data.head()"
   ]
  },
  {
   "cell_type": "code",
   "execution_count": 7,
   "metadata": {},
   "outputs": [
    {
     "data": {
      "text/plain": [
       "Index(['present', 'zero', 'about', 'among', 'as', 'at', 'between', 'by',\n",
       "       'during', 'for', 'from', 'in', 'into', 'of', 'on', 'over', 'to', 'with',\n",
       "       'raw_NP', 'Start_idx', 'Sent_start_idx', 'Initial', 'ML_L1', 'Ann',\n",
       "       'lm_about', 'lm_among', 'lm_as', 'lm_at', 'lm_between', 'lm_by',\n",
       "       'lm_during', 'lm_for', 'lm_from', 'lm_in', 'lm_into', 'lm_of', 'lm_on',\n",
       "       'lm_over', 'lm_to', 'lm_with', 'lm_zero'],\n",
       "      dtype='object')"
      ]
     },
     "execution_count": 7,
     "metadata": {},
     "output_type": "execute_result"
    }
   ],
   "source": [
    "full_data.rename(columns={'lm_﻿about':'lm_about'}, inplace=True)\n",
    "full_data.columns"
   ]
  },
  {
   "cell_type": "code",
   "execution_count": 8,
   "metadata": {},
   "outputs": [],
   "source": [
    "probs_ratio = []\n",
    "probs_delta = []\n",
    "init_probs = []\n",
    "corr_probs = []\n",
    "lm_choice = []\n",
    "for i in range(full_data.shape[0]):\n",
    "    row = full_data.iloc[i]\n",
    "    init_prob = row['lm_'+row['Initial']]\n",
    "    corr_prob = row['lm_'+row['ML_L1']]\n",
    "    init_probs.append(init_prob)\n",
    "    corr_probs.append(corr_prob)\n",
    "    probs_ratio.append(init_prob / corr_prob)\n",
    "    probs_delta.append(init_prob - corr_prob)\n",
    "full_data['init_prob'] = init_probs\n",
    "full_data['corr_prob'] = corr_probs\n",
    "full_data['probs_ratio'] = probs_ratio\n",
    "full_data['probs_delta'] = probs_delta\n",
    "full_data['LM'] = full_data[['lm_'+x for x in full_options]].idxmax(1)\n",
    "full_data['LM'] = full_data['LM'].apply(lambda x: x.split('_')[1])"
   ]
  },
  {
   "cell_type": "code",
   "execution_count": 9,
   "metadata": {
    "scrolled": true
   },
   "outputs": [
    {
     "data": {
      "text/html": [
       "<div>\n",
       "<style scoped>\n",
       "    .dataframe tbody tr th:only-of-type {\n",
       "        vertical-align: middle;\n",
       "    }\n",
       "\n",
       "    .dataframe tbody tr th {\n",
       "        vertical-align: top;\n",
       "    }\n",
       "\n",
       "    .dataframe thead th {\n",
       "        text-align: right;\n",
       "    }\n",
       "</style>\n",
       "<table border=\"1\" class=\"dataframe\">\n",
       "  <thead>\n",
       "    <tr style=\"text-align: right;\">\n",
       "      <th></th>\n",
       "      <th>present</th>\n",
       "      <th>zero</th>\n",
       "      <th>about</th>\n",
       "      <th>among</th>\n",
       "      <th>as</th>\n",
       "      <th>at</th>\n",
       "      <th>between</th>\n",
       "      <th>by</th>\n",
       "      <th>during</th>\n",
       "      <th>for</th>\n",
       "      <th>...</th>\n",
       "      <th>lm_on</th>\n",
       "      <th>lm_over</th>\n",
       "      <th>lm_to</th>\n",
       "      <th>lm_with</th>\n",
       "      <th>lm_zero</th>\n",
       "      <th>init_prob</th>\n",
       "      <th>corr_prob</th>\n",
       "      <th>probs_ratio</th>\n",
       "      <th>probs_delta</th>\n",
       "      <th>LM</th>\n",
       "    </tr>\n",
       "  </thead>\n",
       "  <tbody>\n",
       "    <tr>\n",
       "      <th>0</th>\n",
       "      <td>0.014882</td>\n",
       "      <td>9.851183e-01</td>\n",
       "      <td>0.021415</td>\n",
       "      <td>0.000052</td>\n",
       "      <td>0.126387</td>\n",
       "      <td>0.004439</td>\n",
       "      <td>0.000082</td>\n",
       "      <td>0.007522</td>\n",
       "      <td>0.002527</td>\n",
       "      <td>0.356270</td>\n",
       "      <td>...</td>\n",
       "      <td>-32.670826</td>\n",
       "      <td>-33.878326</td>\n",
       "      <td>-32.714996</td>\n",
       "      <td>-33.169025</td>\n",
       "      <td>-30.106878</td>\n",
       "      <td>-30.106878</td>\n",
       "      <td>-30.106878</td>\n",
       "      <td>1.000000</td>\n",
       "      <td>0.000000</td>\n",
       "      <td>zero</td>\n",
       "    </tr>\n",
       "    <tr>\n",
       "      <th>1</th>\n",
       "      <td>1.000000</td>\n",
       "      <td>1.122606e-07</td>\n",
       "      <td>0.000154</td>\n",
       "      <td>0.008797</td>\n",
       "      <td>0.002671</td>\n",
       "      <td>0.125364</td>\n",
       "      <td>0.003533</td>\n",
       "      <td>0.000589</td>\n",
       "      <td>0.000048</td>\n",
       "      <td>0.005333</td>\n",
       "      <td>...</td>\n",
       "      <td>-29.882133</td>\n",
       "      <td>-32.009200</td>\n",
       "      <td>-30.204685</td>\n",
       "      <td>-30.430601</td>\n",
       "      <td>-28.897280</td>\n",
       "      <td>-30.106878</td>\n",
       "      <td>-29.613250</td>\n",
       "      <td>1.016669</td>\n",
       "      <td>-0.493628</td>\n",
       "      <td>zero</td>\n",
       "    </tr>\n",
       "    <tr>\n",
       "      <th>2</th>\n",
       "      <td>0.000255</td>\n",
       "      <td>9.997448e-01</td>\n",
       "      <td>0.023409</td>\n",
       "      <td>0.001858</td>\n",
       "      <td>0.179208</td>\n",
       "      <td>0.007757</td>\n",
       "      <td>0.000041</td>\n",
       "      <td>0.009895</td>\n",
       "      <td>0.000019</td>\n",
       "      <td>0.084803</td>\n",
       "      <td>...</td>\n",
       "      <td>-34.139107</td>\n",
       "      <td>-33.785168</td>\n",
       "      <td>-33.646137</td>\n",
       "      <td>-34.023697</td>\n",
       "      <td>-30.106878</td>\n",
       "      <td>-30.106878</td>\n",
       "      <td>-30.106878</td>\n",
       "      <td>1.000000</td>\n",
       "      <td>0.000000</td>\n",
       "      <td>zero</td>\n",
       "    </tr>\n",
       "    <tr>\n",
       "      <th>3</th>\n",
       "      <td>0.003864</td>\n",
       "      <td>9.961361e-01</td>\n",
       "      <td>0.003481</td>\n",
       "      <td>0.000654</td>\n",
       "      <td>0.776202</td>\n",
       "      <td>0.035943</td>\n",
       "      <td>0.000267</td>\n",
       "      <td>0.002419</td>\n",
       "      <td>0.004328</td>\n",
       "      <td>0.011206</td>\n",
       "      <td>...</td>\n",
       "      <td>-34.661076</td>\n",
       "      <td>-35.534275</td>\n",
       "      <td>-35.129456</td>\n",
       "      <td>-33.852620</td>\n",
       "      <td>-31.273170</td>\n",
       "      <td>-31.273170</td>\n",
       "      <td>-31.273170</td>\n",
       "      <td>1.000000</td>\n",
       "      <td>0.000000</td>\n",
       "      <td>zero</td>\n",
       "    </tr>\n",
       "    <tr>\n",
       "      <th>4</th>\n",
       "      <td>0.999961</td>\n",
       "      <td>3.919356e-05</td>\n",
       "      <td>0.039227</td>\n",
       "      <td>0.000007</td>\n",
       "      <td>0.002289</td>\n",
       "      <td>0.001446</td>\n",
       "      <td>0.000014</td>\n",
       "      <td>0.003828</td>\n",
       "      <td>0.000415</td>\n",
       "      <td>0.045707</td>\n",
       "      <td>...</td>\n",
       "      <td>-34.841442</td>\n",
       "      <td>-35.728390</td>\n",
       "      <td>-34.399540</td>\n",
       "      <td>-32.722183</td>\n",
       "      <td>-32.975845</td>\n",
       "      <td>-31.273170</td>\n",
       "      <td>-31.273170</td>\n",
       "      <td>1.000000</td>\n",
       "      <td>0.000000</td>\n",
       "      <td>of</td>\n",
       "    </tr>\n",
       "  </tbody>\n",
       "</table>\n",
       "<p>5 rows × 46 columns</p>\n",
       "</div>"
      ],
      "text/plain": [
       "    present          zero     about     among        as        at   between  \\\n",
       "0  0.014882  9.851183e-01  0.021415  0.000052  0.126387  0.004439  0.000082   \n",
       "1  1.000000  1.122606e-07  0.000154  0.008797  0.002671  0.125364  0.003533   \n",
       "2  0.000255  9.997448e-01  0.023409  0.001858  0.179208  0.007757  0.000041   \n",
       "3  0.003864  9.961361e-01  0.003481  0.000654  0.776202  0.035943  0.000267   \n",
       "4  0.999961  3.919356e-05  0.039227  0.000007  0.002289  0.001446  0.000014   \n",
       "\n",
       "         by    during       for  ...       lm_on    lm_over      lm_to  \\\n",
       "0  0.007522  0.002527  0.356270  ...  -32.670826 -33.878326 -32.714996   \n",
       "1  0.000589  0.000048  0.005333  ...  -29.882133 -32.009200 -30.204685   \n",
       "2  0.009895  0.000019  0.084803  ...  -34.139107 -33.785168 -33.646137   \n",
       "3  0.002419  0.004328  0.011206  ...  -34.661076 -35.534275 -35.129456   \n",
       "4  0.003828  0.000415  0.045707  ...  -34.841442 -35.728390 -34.399540   \n",
       "\n",
       "     lm_with    lm_zero  init_prob  corr_prob  probs_ratio probs_delta    LM  \n",
       "0 -33.169025 -30.106878 -30.106878 -30.106878     1.000000    0.000000  zero  \n",
       "1 -30.430601 -28.897280 -30.106878 -29.613250     1.016669   -0.493628  zero  \n",
       "2 -34.023697 -30.106878 -30.106878 -30.106878     1.000000    0.000000  zero  \n",
       "3 -33.852620 -31.273170 -31.273170 -31.273170     1.000000    0.000000  zero  \n",
       "4 -32.722183 -32.975845 -31.273170 -31.273170     1.000000    0.000000    of  \n",
       "\n",
       "[5 rows x 46 columns]"
      ]
     },
     "execution_count": 9,
     "metadata": {},
     "output_type": "execute_result"
    }
   ],
   "source": [
    "full_data.head()"
   ]
  },
  {
   "cell_type": "code",
   "execution_count": 10,
   "metadata": {
    "scrolled": true
   },
   "outputs": [
    {
     "data": {
      "text/html": [
       "<div>\n",
       "<style scoped>\n",
       "    .dataframe tbody tr th:only-of-type {\n",
       "        vertical-align: middle;\n",
       "    }\n",
       "\n",
       "    .dataframe tbody tr th {\n",
       "        vertical-align: top;\n",
       "    }\n",
       "\n",
       "    .dataframe thead th {\n",
       "        text-align: right;\n",
       "    }\n",
       "</style>\n",
       "<table border=\"1\" class=\"dataframe\">\n",
       "  <thead>\n",
       "    <tr style=\"text-align: right;\">\n",
       "      <th></th>\n",
       "      <th>present</th>\n",
       "      <th>zero</th>\n",
       "      <th>about</th>\n",
       "      <th>among</th>\n",
       "      <th>as</th>\n",
       "      <th>at</th>\n",
       "      <th>between</th>\n",
       "      <th>by</th>\n",
       "      <th>during</th>\n",
       "      <th>for</th>\n",
       "      <th>...</th>\n",
       "      <th>lm_on</th>\n",
       "      <th>lm_over</th>\n",
       "      <th>lm_to</th>\n",
       "      <th>lm_with</th>\n",
       "      <th>lm_zero</th>\n",
       "      <th>init_prob</th>\n",
       "      <th>corr_prob</th>\n",
       "      <th>probs_ratio</th>\n",
       "      <th>probs_delta</th>\n",
       "      <th>LM</th>\n",
       "    </tr>\n",
       "  </thead>\n",
       "  <tbody>\n",
       "    <tr>\n",
       "      <th>1</th>\n",
       "      <td>1.000000</td>\n",
       "      <td>1.122606e-07</td>\n",
       "      <td>0.000154</td>\n",
       "      <td>0.008797</td>\n",
       "      <td>0.002671</td>\n",
       "      <td>0.125364</td>\n",
       "      <td>0.003533</td>\n",
       "      <td>0.000589</td>\n",
       "      <td>0.000048</td>\n",
       "      <td>0.005333</td>\n",
       "      <td>...</td>\n",
       "      <td>-29.882133</td>\n",
       "      <td>-32.009200</td>\n",
       "      <td>-30.204685</td>\n",
       "      <td>-30.430601</td>\n",
       "      <td>-28.897280</td>\n",
       "      <td>-30.106878</td>\n",
       "      <td>-29.613250</td>\n",
       "      <td>1.016669</td>\n",
       "      <td>-0.493628</td>\n",
       "      <td>zero</td>\n",
       "    </tr>\n",
       "    <tr>\n",
       "      <th>8</th>\n",
       "      <td>0.529766</td>\n",
       "      <td>4.702339e-01</td>\n",
       "      <td>0.044846</td>\n",
       "      <td>0.024327</td>\n",
       "      <td>0.018907</td>\n",
       "      <td>0.007044</td>\n",
       "      <td>0.002463</td>\n",
       "      <td>0.133144</td>\n",
       "      <td>0.001312</td>\n",
       "      <td>0.326640</td>\n",
       "      <td>...</td>\n",
       "      <td>-35.853508</td>\n",
       "      <td>-37.054478</td>\n",
       "      <td>-35.880882</td>\n",
       "      <td>-35.886555</td>\n",
       "      <td>-33.212723</td>\n",
       "      <td>-35.538296</td>\n",
       "      <td>-35.538296</td>\n",
       "      <td>1.000000</td>\n",
       "      <td>0.000000</td>\n",
       "      <td>zero</td>\n",
       "    </tr>\n",
       "    <tr>\n",
       "      <th>10</th>\n",
       "      <td>1.000000</td>\n",
       "      <td>2.031407e-07</td>\n",
       "      <td>0.019044</td>\n",
       "      <td>0.029955</td>\n",
       "      <td>0.016790</td>\n",
       "      <td>0.005628</td>\n",
       "      <td>0.000302</td>\n",
       "      <td>0.142329</td>\n",
       "      <td>0.000458</td>\n",
       "      <td>0.098731</td>\n",
       "      <td>...</td>\n",
       "      <td>-35.932354</td>\n",
       "      <td>-37.301533</td>\n",
       "      <td>-35.684933</td>\n",
       "      <td>-34.926640</td>\n",
       "      <td>-35.717300</td>\n",
       "      <td>-35.538296</td>\n",
       "      <td>-34.926640</td>\n",
       "      <td>1.017513</td>\n",
       "      <td>-0.611656</td>\n",
       "      <td>with</td>\n",
       "    </tr>\n",
       "    <tr>\n",
       "      <th>22</th>\n",
       "      <td>1.000000</td>\n",
       "      <td>9.032970e-08</td>\n",
       "      <td>0.001325</td>\n",
       "      <td>0.002740</td>\n",
       "      <td>0.009714</td>\n",
       "      <td>0.000945</td>\n",
       "      <td>0.412205</td>\n",
       "      <td>0.000606</td>\n",
       "      <td>0.000021</td>\n",
       "      <td>0.013100</td>\n",
       "      <td>...</td>\n",
       "      <td>-32.532894</td>\n",
       "      <td>-32.764420</td>\n",
       "      <td>-32.216457</td>\n",
       "      <td>-31.615618</td>\n",
       "      <td>-29.754082</td>\n",
       "      <td>-29.692871</td>\n",
       "      <td>-31.615618</td>\n",
       "      <td>0.939184</td>\n",
       "      <td>1.922747</td>\n",
       "      <td>between</td>\n",
       "    </tr>\n",
       "    <tr>\n",
       "      <th>28</th>\n",
       "      <td>1.000000</td>\n",
       "      <td>9.144474e-09</td>\n",
       "      <td>0.015174</td>\n",
       "      <td>0.000318</td>\n",
       "      <td>0.000455</td>\n",
       "      <td>0.000447</td>\n",
       "      <td>0.002068</td>\n",
       "      <td>0.014984</td>\n",
       "      <td>0.000453</td>\n",
       "      <td>0.748496</td>\n",
       "      <td>...</td>\n",
       "      <td>-66.182304</td>\n",
       "      <td>-67.286850</td>\n",
       "      <td>-63.869583</td>\n",
       "      <td>-64.666510</td>\n",
       "      <td>-64.341675</td>\n",
       "      <td>-64.428350</td>\n",
       "      <td>-64.428350</td>\n",
       "      <td>1.000000</td>\n",
       "      <td>0.000000</td>\n",
       "      <td>to</td>\n",
       "    </tr>\n",
       "  </tbody>\n",
       "</table>\n",
       "<p>5 rows × 46 columns</p>\n",
       "</div>"
      ],
      "text/plain": [
       "     present          zero     about     among        as        at   between  \\\n",
       "1   1.000000  1.122606e-07  0.000154  0.008797  0.002671  0.125364  0.003533   \n",
       "8   0.529766  4.702339e-01  0.044846  0.024327  0.018907  0.007044  0.002463   \n",
       "10  1.000000  2.031407e-07  0.019044  0.029955  0.016790  0.005628  0.000302   \n",
       "22  1.000000  9.032970e-08  0.001325  0.002740  0.009714  0.000945  0.412205   \n",
       "28  1.000000  9.144474e-09  0.015174  0.000318  0.000455  0.000447  0.002068   \n",
       "\n",
       "          by    during       for   ...         lm_on    lm_over      lm_to  \\\n",
       "1   0.000589  0.000048  0.005333   ...    -29.882133 -32.009200 -30.204685   \n",
       "8   0.133144  0.001312  0.326640   ...    -35.853508 -37.054478 -35.880882   \n",
       "10  0.142329  0.000458  0.098731   ...    -35.932354 -37.301533 -35.684933   \n",
       "22  0.000606  0.000021  0.013100   ...    -32.532894 -32.764420 -32.216457   \n",
       "28  0.014984  0.000453  0.748496   ...    -66.182304 -67.286850 -63.869583   \n",
       "\n",
       "      lm_with    lm_zero  init_prob  corr_prob  probs_ratio probs_delta  \\\n",
       "1  -30.430601 -28.897280 -30.106878 -29.613250     1.016669   -0.493628   \n",
       "8  -35.886555 -33.212723 -35.538296 -35.538296     1.000000    0.000000   \n",
       "10 -34.926640 -35.717300 -35.538296 -34.926640     1.017513   -0.611656   \n",
       "22 -31.615618 -29.754082 -29.692871 -31.615618     0.939184    1.922747   \n",
       "28 -64.666510 -64.341675 -64.428350 -64.428350     1.000000    0.000000   \n",
       "\n",
       "         LM  \n",
       "1      zero  \n",
       "8      zero  \n",
       "10     with  \n",
       "22  between  \n",
       "28       to  \n",
       "\n",
       "[5 rows x 46 columns]"
      ]
     },
     "execution_count": 10,
     "metadata": {},
     "output_type": "execute_result"
    }
   ],
   "source": [
    "data = full_data.loc[(full_data['Initial'] != full_data['ML_L1']) | (full_data['Initial'] != full_data['LM']),:]\n",
    "data.head()"
   ]
  },
  {
   "cell_type": "code",
   "execution_count": 32,
   "metadata": {},
   "outputs": [],
   "source": [
    "random.seed(SEED)\n",
    "\n",
    "corr_idx = data.loc[data['Initial'] != data['Ann']].index\n",
    "notcorr_idx = random.sample(data.loc[data['Initial'] == data['Ann']].index.tolist(),len(corr_idx)*2)\n",
    "data = data.loc[corr_idx.tolist()+notcorr_idx,:]"
   ]
  },
  {
   "cell_type": "code",
   "execution_count": 33,
   "metadata": {},
   "outputs": [
    {
     "data": {
      "text/plain": [
       "(4149, 46)"
      ]
     },
     "execution_count": 33,
     "metadata": {},
     "output_type": "execute_result"
    }
   ],
   "source": [
    "data.shape"
   ]
  },
  {
   "cell_type": "code",
   "execution_count": 34,
   "metadata": {},
   "outputs": [],
   "source": [
    "data = data.loc[pd.notnull(data['Ann']),:]\n",
    "target = data['Ann']\n",
    "X = data.drop(['Ann','raw_NP','Start_idx','Sent_start_idx'],axis=1)"
   ]
  },
  {
   "cell_type": "code",
   "execution_count": 35,
   "metadata": {},
   "outputs": [],
   "source": [
    "target_vect = CountVectorizer(token_pattern='.+')\n",
    "target_vect.fit(full_options)\n",
    "X_sparse = hstack((X.drop(['Initial','ML_L1','LM'],axis=1).to_sparse(),\n",
    "                   target_vect.transform(X['Initial']),\n",
    "                   target_vect.transform(X['LM']),\n",
    "                   target_vect.transform(X['ML_L1'])))"
   ]
  },
  {
   "cell_type": "code",
   "execution_count": 36,
   "metadata": {},
   "outputs": [],
   "source": [
    "X_train, X_test, y_train, y_test = train_test_split(X_sparse, target, test_size=0.33, random_state=SEED)"
   ]
  },
  {
   "cell_type": "code",
   "execution_count": null,
   "metadata": {
    "scrolled": false
   },
   "outputs": [],
   "source": [
    "xgb = XGBClassifier(seed=SEED,n_jobs=3)\n",
    "xgb.fit(X_train,y_train)\n",
    "x_pred = xgb.predict(X_test)\n",
    "print(accuracy_score(y_test,x_pred))\n",
    "print(classification_report(y_test,x_pred))"
   ]
  },
  {
   "cell_type": "code",
   "execution_count": 16,
   "metadata": {
    "scrolled": false
   },
   "outputs": [
    {
     "name": "stdout",
     "output_type": "stream",
     "text": [
      "0.9353693181818182\n",
      "             precision    recall  f1-score   support\n",
      "\n",
      "      about       0.96      0.97      0.96       299\n",
      "      among       0.97      0.88      0.92        80\n",
      "         as       0.99      1.00      0.99       240\n",
      "         at       0.78      0.75      0.77       182\n",
      "    between       0.91      0.93      0.92        57\n",
      "         by       0.93      0.92      0.92       285\n",
      "     during       0.99      0.87      0.93        86\n",
      "        for       0.94      0.93      0.93       648\n",
      "       from       0.94      0.96      0.95       272\n",
      "         in       0.94      0.95      0.94      1535\n",
      "       into       0.83      0.92      0.87        37\n",
      "         of       0.95      0.97      0.96      1262\n",
      "         on       0.78      0.84      0.81       313\n",
      "       over       0.98      0.89      0.93        61\n",
      "         to       0.92      0.88      0.90       485\n",
      "       with       0.96      0.95      0.95       367\n",
      "       zero       0.97      0.97      0.97       831\n",
      "\n",
      "avg / total       0.94      0.94      0.94      7040\n",
      "\n"
     ]
    }
   ],
   "source": [
    "logit = LogisticRegression(random_state=SEED)\n",
    "logit.fit(X_train,y_train)\n",
    "l_pred = logit.predict(X_test)\n",
    "print(accuracy_score(y_test,l_pred))\n",
    "print(classification_report(y_test,l_pred))"
   ]
  },
  {
   "cell_type": "code",
   "execution_count": 17,
   "metadata": {},
   "outputs": [],
   "source": [
    "test_data = data.loc[y_test.index]"
   ]
  },
  {
   "cell_type": "code",
   "execution_count": 23,
   "metadata": {},
   "outputs": [],
   "source": [
    "x_pred_prob = logit.predict_proba(X_test)\n",
    "final_preds = []\n",
    "for l1_prob,lm_prob,meta_prob in zip(test_data[full_options+['present']].values,\n",
    "                                     test_data[['lm_'+x for x in full_options]].values,\n",
    "                                    x_pred_prob):\n",
    "    #print(l1_prob[:-1],meta_prob,lm_prob)\n",
    "    l1_prob[:3] *= l1_prob[-1]\n",
    "    lm_prob /= sum(lm_prob)\n",
    "    final_preds.append(full_options[np.argmax(np.average((l1_prob[:-1],meta_prob,lm_prob),axis=0))])"
   ]
  },
  {
   "cell_type": "code",
   "execution_count": 24,
   "metadata": {},
   "outputs": [],
   "source": [
    "test_data['Preds'] = l_pred\n",
    "test_data['Final_preds'] = final_preds\n",
    "corrected = test_data.loc[(y_test != test_data['Initial']),['Initial','ML_L1','LM','Preds','Final_preds','Ann']]\n",
    "not_corrected = test_data.loc[(y_test == test_data['Initial']),['Initial','ML_L1','LM','Preds','Final_preds','Ann']]"
   ]
  },
  {
   "cell_type": "code",
   "execution_count": 25,
   "metadata": {},
   "outputs": [
    {
     "data": {
      "text/plain": [
       "(6592, 6)"
      ]
     },
     "execution_count": 25,
     "metadata": {},
     "output_type": "execute_result"
    }
   ],
   "source": [
    "not_corrected.shape"
   ]
  },
  {
   "cell_type": "code",
   "execution_count": 31,
   "metadata": {
    "scrolled": false
   },
   "outputs": [
    {
     "name": "stdout",
     "output_type": "stream",
     "text": [
      "0.029017857142857144\n",
      "             precision    recall  f1-score   support\n",
      "\n",
      "      about       0.00      0.00      0.00        10\n",
      "      among       0.00      0.00      0.00        10\n",
      "         as       0.00      0.00      0.00         1\n",
      "         at       0.18      0.14      0.16        50\n",
      "    between       0.00      0.00      0.00         4\n",
      "         by       0.05      0.04      0.04        24\n",
      "     during       0.00      0.00      0.00        11\n",
      "        for       0.00      0.00      0.00        44\n",
      "       from       0.00      0.00      0.00        10\n",
      "         in       0.04      0.05      0.05        83\n",
      "       into       0.00      0.00      0.00         3\n",
      "         of       0.00      0.00      0.00        43\n",
      "         on       0.01      0.02      0.02        45\n",
      "       over       0.00      0.00      0.00         7\n",
      "         to       0.00      0.00      0.00        56\n",
      "       with       0.00      0.00      0.00        19\n",
      "       zero       0.00      0.00      0.00        28\n",
      "\n",
      "avg / total       0.03      0.03      0.03       448\n",
      "\n"
     ]
    }
   ],
   "source": [
    "print(accuracy_score(corrected['Ann'],corrected['Preds']))\n",
    "print(classification_report(corrected['Ann'],corrected['Preds']))"
   ]
  },
  {
   "cell_type": "code",
   "execution_count": 97,
   "metadata": {},
   "outputs": [
    {
     "data": {
      "text/plain": [
       "(3, 6)"
      ]
     },
     "execution_count": 97,
     "metadata": {},
     "output_type": "execute_result"
    }
   ],
   "source": [
    "corrected[(corrected['Preds'] == corrected['Ann']) & (corrected['Ann'] != corrected['ML_L1']) &\n",
    "          (corrected['Ann'] != corrected['LM'])].shape"
   ]
  },
  {
   "cell_type": "code",
   "execution_count": 106,
   "metadata": {},
   "outputs": [
    {
     "name": "stdout",
     "output_type": "stream",
     "text": [
      "0.5284738041\n",
      "             precision    recall  f1-score   support\n",
      "\n",
      "      about       0.38      0.36      0.37        14\n",
      "      among       0.00      0.00      0.00         5\n",
      "         as       0.62      1.00      0.77         5\n",
      "         at       0.54      0.44      0.48        32\n",
      "    between       0.75      0.60      0.67         5\n",
      "         by       0.50      0.33      0.40         9\n",
      "     during       0.00      0.00      0.00         6\n",
      "        for       0.49      0.50      0.49        42\n",
      "       from       0.69      0.56      0.62        16\n",
      "         in       0.47      0.79      0.59        99\n",
      "       into       0.00      0.00      0.00         2\n",
      "         of       0.58      0.61      0.59        67\n",
      "         on       0.55      0.36      0.44        33\n",
      "       over       0.00      0.00      0.00         3\n",
      "         to       0.40      0.23      0.29        43\n",
      "       with       0.71      0.50      0.59        20\n",
      "       zero       0.72      0.55      0.63        38\n",
      "\n",
      "avg / total       0.52      0.53      0.51       439\n",
      "\n"
     ]
    },
    {
     "name": "stderr",
     "output_type": "stream",
     "text": [
      "C:\\Users\\PC1\\Anaconda3\\lib\\site-packages\\sklearn\\metrics\\classification.py:1135: UndefinedMetricWarning: Precision and F-score are ill-defined and being set to 0.0 in labels with no predicted samples.\n",
      "  'precision', 'predicted', average, warn_for)\n"
     ]
    }
   ],
   "source": [
    "forest = RandomForestClassifier(n_estimators=300,random_state=SEED)\n",
    "forest.fit(X_train,y_train)\n",
    "f_pred = forest.predict(X_test)\n",
    "print(accuracy_score(y_test,f_pred))\n",
    "print(classification_report(y_test,f_pred))"
   ]
  },
  {
   "cell_type": "code",
   "execution_count": 82,
   "metadata": {},
   "outputs": [
    {
     "ename": "ValueError",
     "evalue": "The truth value of an array with more than one element is ambiguous. Use a.any() or a.all()",
     "output_type": "error",
     "traceback": [
      "\u001b[0;31m---------------------------------------------------------------------------\u001b[0m",
      "\u001b[0;31mValueError\u001b[0m                                Traceback (most recent call last)",
      "\u001b[0;32m<ipython-input-82-a6ea315d8924>\u001b[0m in \u001b[0;36m<module>\u001b[0;34m()\u001b[0m\n\u001b[1;32m      3\u001b[0m         'init_a','init_an','init_the','init_zero','corr_a','lm_a','lm_an','lm_the','lm_zero','corr_an','corr_the','corr_zero']\n\u001b[1;32m      4\u001b[0m \u001b[0mimps\u001b[0m \u001b[0;34m=\u001b[0m \u001b[0mlogit\u001b[0m\u001b[0;34m.\u001b[0m\u001b[0mcoef_\u001b[0m\u001b[0;34m\u001b[0m\u001b[0m\n\u001b[0;32m----> 5\u001b[0;31m \u001b[0;32mfor\u001b[0m \u001b[0mf\u001b[0m\u001b[0;34m,\u001b[0m\u001b[0mi\u001b[0m \u001b[0;32min\u001b[0m \u001b[0msorted\u001b[0m\u001b[0;34m(\u001b[0m\u001b[0mzip\u001b[0m\u001b[0;34m(\u001b[0m\u001b[0mfeats\u001b[0m\u001b[0;34m,\u001b[0m\u001b[0mimps\u001b[0m\u001b[0;34m)\u001b[0m\u001b[0;34m,\u001b[0m\u001b[0mkey\u001b[0m\u001b[0;34m=\u001b[0m\u001b[0;32mlambda\u001b[0m \u001b[0mx\u001b[0m\u001b[0;34m:\u001b[0m \u001b[0mx\u001b[0m\u001b[0;34m[\u001b[0m\u001b[0;36m1\u001b[0m\u001b[0;34m]\u001b[0m\u001b[0;34m,\u001b[0m\u001b[0mreverse\u001b[0m\u001b[0;34m=\u001b[0m\u001b[0;32mTrue\u001b[0m\u001b[0;34m)\u001b[0m\u001b[0;34m:\u001b[0m\u001b[0;34m\u001b[0m\u001b[0m\n\u001b[0m\u001b[1;32m      6\u001b[0m     \u001b[0mprint\u001b[0m\u001b[0;34m(\u001b[0m\u001b[0mf\u001b[0m\u001b[0;34m,\u001b[0m\u001b[0;34m'-'\u001b[0m\u001b[0;34m,\u001b[0m\u001b[0mi\u001b[0m\u001b[0;34m)\u001b[0m\u001b[0;34m\u001b[0m\u001b[0m\n",
      "\u001b[0;31mValueError\u001b[0m: The truth value of an array with more than one element is ambiguous. Use a.any() or a.all()"
     ]
    }
   ],
   "source": [
    "feats = ['present','zero','ml_a','ml_an','ml_the',\n",
    "         'init_prob','corr_prob','probs_ratio','probs_delta',\n",
    "        'init_a','init_an','init_the','init_zero','corr_a','lm_a','lm_an','lm_the','lm_zero','corr_an','corr_the','corr_zero']\n",
    "imps = forest.feature_importances_\n",
    "for f,i in sorted(zip(feats,imps),key=lambda x: x[1],reverse=True):\n",
    "    print(f,'-',i)"
   ]
  },
  {
   "cell_type": "code",
   "execution_count": 68,
   "metadata": {
    "scrolled": true
   },
   "outputs": [
    {
     "name": "stdout",
     "output_type": "stream",
     "text": [
      "0.374223182924\n",
      "             precision    recall  f1-score   support\n",
      "\n",
      "          a       0.28      0.35      0.31       467\n",
      "         an       0.20      0.22      0.21        82\n",
      "        the       0.37      0.45      0.41      1458\n",
      "       zero       0.43      0.33      0.37      1694\n",
      "\n",
      "avg / total       0.38      0.37      0.37      3701\n",
      "\n"
     ]
    }
   ],
   "source": [
    "L1_preds = X.loc[y_test.index,'ML_L1']\n",
    "print(accuracy_score(y_test,L1_preds))\n",
    "print(classification_report(y_test,L1_preds))"
   ]
  },
  {
   "cell_type": "code",
   "execution_count": 69,
   "metadata": {},
   "outputs": [
    {
     "name": "stdout",
     "output_type": "stream",
     "text": [
      "0.41664415023\n",
      "             precision    recall  f1-score   support\n",
      "\n",
      "          a       0.35      0.37      0.36       467\n",
      "         an       0.37      0.49      0.42        82\n",
      "        the       0.41      0.39      0.40      1458\n",
      "       zero       0.44      0.45      0.45      1694\n",
      "\n",
      "avg / total       0.42      0.42      0.42      3701\n",
      "\n"
     ]
    }
   ],
   "source": [
    "L1_preds = X.loc[y_test.index,'LM']\n",
    "print(accuracy_score(y_test,L1_preds))\n",
    "print(classification_report(y_test,L1_preds))"
   ]
  },
  {
   "cell_type": "code",
   "execution_count": 52,
   "metadata": {
    "scrolled": true
   },
   "outputs": [
    {
     "name": "stdout",
     "output_type": "stream",
     "text": [
      "0.565349544073\n",
      "             precision    recall  f1-score   support\n",
      "\n",
      "          a       0.54      0.48      0.51       359\n",
      "         an       0.57      0.47      0.51        77\n",
      "        the       0.53      0.48      0.51       996\n",
      "       zero       0.59      0.67      0.63      1200\n",
      "\n",
      "avg / total       0.56      0.57      0.56      2632\n",
      "\n"
     ]
    }
   ],
   "source": [
    "LM_preds = []\n",
    "for row in X.loc[y_test.index,['init_prob','corr_prob','Initial','ML_L1']].itertuples():\n",
    "    if row.init_prob > row.corr_prob:\n",
    "        LM_preds.append(row.Initial)\n",
    "    else:\n",
    "        LM_preds.append(row.ML_L1)\n",
    "print(accuracy_score(y_test,LM_preds))\n",
    "print(classification_report(y_test,LM_preds))"
   ]
  },
  {
   "cell_type": "code",
   "execution_count": 68,
   "metadata": {},
   "outputs": [
    {
     "data": {
      "text/plain": [
       "9360"
      ]
     },
     "execution_count": 68,
     "metadata": {},
     "output_type": "execute_result"
    }
   ],
   "source": [
    "sum(L1_preds == X.loc[y_test.index,'Initial'])"
   ]
  },
  {
   "cell_type": "code",
   "execution_count": 19,
   "metadata": {
    "scrolled": true
   },
   "outputs": [
    {
     "data": {
      "text/plain": [
       "(2632, 2546)"
      ]
     },
     "execution_count": 19,
     "metadata": {},
     "output_type": "execute_result"
    }
   ],
   "source": [
    "len(x_pred),sum(x_pred == X.loc[y_test.index,'Initial'])"
   ]
  },
  {
   "cell_type": "markdown",
   "metadata": {},
   "source": [
    "# Train and save the model"
   ]
  },
  {
   "cell_type": "code",
   "execution_count": 38,
   "metadata": {},
   "outputs": [
    {
     "data": {
      "text/plain": [
       "LogisticRegression(C=1.0, class_weight=None, dual=False, fit_intercept=True,\n",
       "          intercept_scaling=1, max_iter=100, multi_class='ovr', n_jobs=1,\n",
       "          penalty='l2', random_state=7, solver='liblinear', tol=0.0001,\n",
       "          verbose=0, warm_start=False)"
      ]
     },
     "execution_count": 38,
     "metadata": {},
     "output_type": "execute_result"
    }
   ],
   "source": [
    "xgb = LogisticRegression(random_state=SEED)\n",
    "xgb.fit(X_sparse,target)"
   ]
  },
  {
   "cell_type": "code",
   "execution_count": 37,
   "metadata": {},
   "outputs": [
    {
     "data": {
      "text/plain": [
       "(4149, 90)"
      ]
     },
     "execution_count": 37,
     "metadata": {},
     "output_type": "execute_result"
    }
   ],
   "source": [
    "X_sparse.shape"
   ]
  },
  {
   "cell_type": "code",
   "execution_count": 39,
   "metadata": {},
   "outputs": [],
   "source": [
    "with open('../models/preposition_choice_vectorizer.pickle','wb') as f:\n",
    "    pickle.dump(target_vect,f)\n",
    "\n",
    "with open('../models/preposition_metaclassifier_logistic.pickle','wb') as f:\n",
    "    pickle.dump(xgb,f)   "
   ]
  }
 ],
 "metadata": {
  "kernelspec": {
   "display_name": "Python 3",
   "language": "python",
   "name": "python3"
  },
  "language_info": {
   "codemirror_mode": {
    "name": "ipython",
    "version": 3
   },
   "file_extension": ".py",
   "mimetype": "text/x-python",
   "name": "python",
   "nbconvert_exporter": "python",
   "pygments_lexer": "ipython3",
   "version": "3.5.2"
  }
 },
 "nbformat": 4,
 "nbformat_minor": 1
}
