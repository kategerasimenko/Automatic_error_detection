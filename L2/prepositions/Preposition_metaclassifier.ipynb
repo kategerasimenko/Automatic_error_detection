{
 "cells": [
  {
   "cell_type": "code",
   "execution_count": 1,
   "metadata": {
    "collapsed": false,
    "scrolled": false
   },
   "outputs": [
    {
     "name": "stderr",
     "output_type": "stream",
     "text": [
      "C:\\Users\\PC1\\Anaconda3\\lib\\site-packages\\sklearn\\cross_validation.py:41: DeprecationWarning: This module was deprecated in version 0.18 in favor of the model_selection module into which all the refactored classes and functions are moved. Also note that the interface of the new CV iterators are different from that of this module. This module will be removed in 0.20.\n",
      "  \"This module will be removed in 0.20.\", DeprecationWarning)\n"
     ]
    }
   ],
   "source": [
    "import json\n",
    "import pandas as pd\n",
    "import numpy as np\n",
    "from sklearn.feature_extraction.text import CountVectorizer\n",
    "from sklearn.model_selection import train_test_split\n",
    "from sklearn.linear_model import LogisticRegression\n",
    "from sklearn.ensemble import RandomForestClassifier, GradientBoostingClassifier\n",
    "from xgboost import XGBClassifier\n",
    "from scipy.sparse import csr_matrix, hstack\n",
    "from sklearn.metrics import accuracy_score, classification_report\n",
    "import pickle\n",
    "\n",
    "SEED = 7"
   ]
  },
  {
   "cell_type": "code",
   "execution_count": 14,
   "metadata": {
    "collapsed": false
   },
   "outputs": [],
   "source": [
    "with open('../../prepositions.txt','r',encoding='utf-8-sig') as f:\n",
    "    full_options = f.read().split()\n",
    "    full_options.append('zero')"
   ]
  },
  {
   "cell_type": "code",
   "execution_count": 15,
   "metadata": {
    "collapsed": false,
    "scrolled": true
   },
   "outputs": [],
   "source": [
    "full_data = pd.read_csv('prepositions_meta.csv',sep=';')"
   ]
  },
  {
   "cell_type": "code",
   "execution_count": 16,
   "metadata": {
    "collapsed": false
   },
   "outputs": [
    {
     "data": {
      "text/plain": [
       "Index(['about', 'along', 'among', 'around', 'as', 'at', 'beside', 'between',\n",
       "       'by', 'down', 'during', 'except', 'for', 'from', 'in', 'inside', 'into',\n",
       "       'of', 'off', 'on', 'onto', 'outside', 'over', 'through', 'towards',\n",
       "       'under', 'until', 'up', 'upon', 'with', 'within', 'without'],\n",
       "      dtype='object')"
      ]
     },
     "execution_count": 16,
     "metadata": {},
     "output_type": "execute_result"
    }
   ],
   "source": [
    "options = full_data.columns[2:-6]\n",
    "options"
   ]
  },
  {
   "cell_type": "code",
   "execution_count": 17,
   "metadata": {
    "collapsed": false,
    "scrolled": true
   },
   "outputs": [],
   "source": [
    "with open('../lm_preds_prepositions.json','r',encoding='utf-8') as f:\n",
    "    probs = json.loads(f.read())"
   ]
  },
  {
   "cell_type": "code",
   "execution_count": 73,
   "metadata": {
    "collapsed": false
   },
   "outputs": [
    {
     "ename": "TypeError",
     "evalue": "descriptor 'lower' requires a 'str' object but received a 'float'",
     "output_type": "error",
     "traceback": [
      "\u001b[1;31m---------------------------------------------------------------------------\u001b[0m",
      "\u001b[1;31mTypeError\u001b[0m                                 Traceback (most recent call last)",
      "\u001b[1;32m<ipython-input-73-2ce13f6aeec5>\u001b[0m in \u001b[0;36m<module>\u001b[1;34m()\u001b[0m\n\u001b[1;32m----> 1\u001b[1;33m \u001b[0mfull_data\u001b[0m\u001b[1;33m[\u001b[0m\u001b[1;34m'Ann'\u001b[0m\u001b[1;33m]\u001b[0m\u001b[1;33m.\u001b[0m\u001b[0mapply\u001b[0m\u001b[1;33m(\u001b[0m\u001b[0mstr\u001b[0m\u001b[1;33m.\u001b[0m\u001b[0mlower\u001b[0m\u001b[1;33m)\u001b[0m\u001b[1;33m\u001b[0m\u001b[0m\n\u001b[0m",
      "\u001b[1;32mC:\\Users\\PC1\\Anaconda3\\lib\\site-packages\\pandas\\core\\series.py\u001b[0m in \u001b[0;36mapply\u001b[1;34m(self, func, convert_dtype, args, **kwds)\u001b[0m\n\u001b[0;32m   2292\u001b[0m             \u001b[1;32melse\u001b[0m\u001b[1;33m:\u001b[0m\u001b[1;33m\u001b[0m\u001b[0m\n\u001b[0;32m   2293\u001b[0m                 \u001b[0mvalues\u001b[0m \u001b[1;33m=\u001b[0m \u001b[0mself\u001b[0m\u001b[1;33m.\u001b[0m\u001b[0masobject\u001b[0m\u001b[1;33m\u001b[0m\u001b[0m\n\u001b[1;32m-> 2294\u001b[1;33m                 \u001b[0mmapped\u001b[0m \u001b[1;33m=\u001b[0m \u001b[0mlib\u001b[0m\u001b[1;33m.\u001b[0m\u001b[0mmap_infer\u001b[0m\u001b[1;33m(\u001b[0m\u001b[0mvalues\u001b[0m\u001b[1;33m,\u001b[0m \u001b[0mf\u001b[0m\u001b[1;33m,\u001b[0m \u001b[0mconvert\u001b[0m\u001b[1;33m=\u001b[0m\u001b[0mconvert_dtype\u001b[0m\u001b[1;33m)\u001b[0m\u001b[1;33m\u001b[0m\u001b[0m\n\u001b[0m\u001b[0;32m   2295\u001b[0m \u001b[1;33m\u001b[0m\u001b[0m\n\u001b[0;32m   2296\u001b[0m         \u001b[1;32mif\u001b[0m \u001b[0mlen\u001b[0m\u001b[1;33m(\u001b[0m\u001b[0mmapped\u001b[0m\u001b[1;33m)\u001b[0m \u001b[1;32mand\u001b[0m \u001b[0misinstance\u001b[0m\u001b[1;33m(\u001b[0m\u001b[0mmapped\u001b[0m\u001b[1;33m[\u001b[0m\u001b[1;36m0\u001b[0m\u001b[1;33m]\u001b[0m\u001b[1;33m,\u001b[0m \u001b[0mSeries\u001b[0m\u001b[1;33m)\u001b[0m\u001b[1;33m:\u001b[0m\u001b[1;33m\u001b[0m\u001b[0m\n",
      "\u001b[1;32mpandas\\src\\inference.pyx\u001b[0m in \u001b[0;36mpandas.lib.map_infer (pandas\\lib.c:66124)\u001b[1;34m()\u001b[0m\n",
      "\u001b[1;31mTypeError\u001b[0m: descriptor 'lower' requires a 'str' object but received a 'float'"
     ]
    }
   ],
   "source": [
    "full_data['Ann'].apply(str.lower)"
   ]
  },
  {
   "cell_type": "code",
   "execution_count": 18,
   "metadata": {
    "collapsed": false
   },
   "outputs": [
    {
     "data": {
      "text/html": [
       "<div>\n",
       "<table border=\"1\" class=\"dataframe\">\n",
       "  <thead>\n",
       "    <tr style=\"text-align: right;\">\n",
       "      <th></th>\n",
       "      <th>present</th>\n",
       "      <th>zero</th>\n",
       "      <th>about</th>\n",
       "      <th>along</th>\n",
       "      <th>among</th>\n",
       "      <th>around</th>\n",
       "      <th>as</th>\n",
       "      <th>at</th>\n",
       "      <th>beside</th>\n",
       "      <th>between</th>\n",
       "      <th>...</th>\n",
       "      <th>lm_towards</th>\n",
       "      <th>lm_under</th>\n",
       "      <th>lm_underneath</th>\n",
       "      <th>lm_until</th>\n",
       "      <th>lm_up</th>\n",
       "      <th>lm_upon</th>\n",
       "      <th>lm_with</th>\n",
       "      <th>lm_within</th>\n",
       "      <th>lm_without</th>\n",
       "      <th>lm_zero</th>\n",
       "    </tr>\n",
       "  </thead>\n",
       "  <tbody>\n",
       "    <tr>\n",
       "      <th>0</th>\n",
       "      <td>0.057180</td>\n",
       "      <td>0.942820</td>\n",
       "      <td>0.000258</td>\n",
       "      <td>0.000388</td>\n",
       "      <td>0.001148</td>\n",
       "      <td>0.000244</td>\n",
       "      <td>0.115932</td>\n",
       "      <td>0.001321</td>\n",
       "      <td>0.000146</td>\n",
       "      <td>0.094416</td>\n",
       "      <td>...</td>\n",
       "      <td>-68.392620</td>\n",
       "      <td>-68.069990</td>\n",
       "      <td>-69.151080</td>\n",
       "      <td>-68.36011</td>\n",
       "      <td>-68.402176</td>\n",
       "      <td>-68.67732</td>\n",
       "      <td>-67.67051</td>\n",
       "      <td>-68.250374</td>\n",
       "      <td>-68.535490</td>\n",
       "      <td>-63.410843</td>\n",
       "    </tr>\n",
       "    <tr>\n",
       "      <th>1</th>\n",
       "      <td>0.000579</td>\n",
       "      <td>0.999421</td>\n",
       "      <td>0.029673</td>\n",
       "      <td>0.000062</td>\n",
       "      <td>0.000706</td>\n",
       "      <td>0.002724</td>\n",
       "      <td>0.213891</td>\n",
       "      <td>0.000282</td>\n",
       "      <td>0.000084</td>\n",
       "      <td>0.000083</td>\n",
       "      <td>...</td>\n",
       "      <td>-68.010284</td>\n",
       "      <td>-68.274506</td>\n",
       "      <td>-69.505936</td>\n",
       "      <td>-68.81487</td>\n",
       "      <td>-68.280060</td>\n",
       "      <td>-68.59552</td>\n",
       "      <td>-65.34287</td>\n",
       "      <td>-67.171130</td>\n",
       "      <td>-66.910200</td>\n",
       "      <td>-63.410843</td>\n",
       "    </tr>\n",
       "    <tr>\n",
       "      <th>2</th>\n",
       "      <td>0.998452</td>\n",
       "      <td>0.001548</td>\n",
       "      <td>0.001611</td>\n",
       "      <td>0.000054</td>\n",
       "      <td>0.024830</td>\n",
       "      <td>0.000388</td>\n",
       "      <td>0.001244</td>\n",
       "      <td>0.000699</td>\n",
       "      <td>0.000064</td>\n",
       "      <td>0.002067</td>\n",
       "      <td>...</td>\n",
       "      <td>-66.461630</td>\n",
       "      <td>-66.773155</td>\n",
       "      <td>-68.983604</td>\n",
       "      <td>-66.54698</td>\n",
       "      <td>-66.746670</td>\n",
       "      <td>-67.08113</td>\n",
       "      <td>-64.77977</td>\n",
       "      <td>-66.988810</td>\n",
       "      <td>-66.408394</td>\n",
       "      <td>-63.867430</td>\n",
       "    </tr>\n",
       "    <tr>\n",
       "      <th>3</th>\n",
       "      <td>0.537116</td>\n",
       "      <td>0.462884</td>\n",
       "      <td>0.000147</td>\n",
       "      <td>0.000286</td>\n",
       "      <td>0.000054</td>\n",
       "      <td>0.001057</td>\n",
       "      <td>0.000129</td>\n",
       "      <td>0.003057</td>\n",
       "      <td>0.000206</td>\n",
       "      <td>0.001394</td>\n",
       "      <td>...</td>\n",
       "      <td>-66.897880</td>\n",
       "      <td>-65.724556</td>\n",
       "      <td>-67.871920</td>\n",
       "      <td>-66.41504</td>\n",
       "      <td>-66.495820</td>\n",
       "      <td>-66.86648</td>\n",
       "      <td>-65.36411</td>\n",
       "      <td>-66.375330</td>\n",
       "      <td>-66.482540</td>\n",
       "      <td>-63.077470</td>\n",
       "    </tr>\n",
       "    <tr>\n",
       "      <th>4</th>\n",
       "      <td>0.989848</td>\n",
       "      <td>0.010152</td>\n",
       "      <td>0.000028</td>\n",
       "      <td>0.000067</td>\n",
       "      <td>0.000067</td>\n",
       "      <td>0.000131</td>\n",
       "      <td>0.000572</td>\n",
       "      <td>0.001795</td>\n",
       "      <td>0.000086</td>\n",
       "      <td>0.000201</td>\n",
       "      <td>...</td>\n",
       "      <td>-64.680840</td>\n",
       "      <td>-66.432340</td>\n",
       "      <td>-67.882930</td>\n",
       "      <td>-65.57243</td>\n",
       "      <td>-65.804470</td>\n",
       "      <td>-65.92004</td>\n",
       "      <td>-64.33803</td>\n",
       "      <td>-64.737820</td>\n",
       "      <td>-66.707306</td>\n",
       "      <td>-62.766747</td>\n",
       "    </tr>\n",
       "  </tbody>\n",
       "</table>\n",
       "<p>5 rows × 77 columns</p>\n",
       "</div>"
      ],
      "text/plain": [
       "    present      zero     about     along     among    around        as  \\\n",
       "0  0.057180  0.942820  0.000258  0.000388  0.001148  0.000244  0.115932   \n",
       "1  0.000579  0.999421  0.029673  0.000062  0.000706  0.002724  0.213891   \n",
       "2  0.998452  0.001548  0.001611  0.000054  0.024830  0.000388  0.001244   \n",
       "3  0.537116  0.462884  0.000147  0.000286  0.000054  0.001057  0.000129   \n",
       "4  0.989848  0.010152  0.000028  0.000067  0.000067  0.000131  0.000572   \n",
       "\n",
       "         at    beside   between    ...      lm_towards   lm_under  \\\n",
       "0  0.001321  0.000146  0.094416    ...      -68.392620 -68.069990   \n",
       "1  0.000282  0.000084  0.000083    ...      -68.010284 -68.274506   \n",
       "2  0.000699  0.000064  0.002067    ...      -66.461630 -66.773155   \n",
       "3  0.003057  0.000206  0.001394    ...      -66.897880 -65.724556   \n",
       "4  0.001795  0.000086  0.000201    ...      -64.680840 -66.432340   \n",
       "\n",
       "   lm_underneath  lm_until      lm_up   lm_upon   lm_with  lm_within  \\\n",
       "0     -69.151080 -68.36011 -68.402176 -68.67732 -67.67051 -68.250374   \n",
       "1     -69.505936 -68.81487 -68.280060 -68.59552 -65.34287 -67.171130   \n",
       "2     -68.983604 -66.54698 -66.746670 -67.08113 -64.77977 -66.988810   \n",
       "3     -67.871920 -66.41504 -66.495820 -66.86648 -65.36411 -66.375330   \n",
       "4     -67.882930 -65.57243 -65.804470 -65.92004 -64.33803 -64.737820   \n",
       "\n",
       "   lm_without    lm_zero  \n",
       "0  -68.535490 -63.410843  \n",
       "1  -66.910200 -63.410843  \n",
       "2  -66.408394 -63.867430  \n",
       "3  -66.482540 -63.077470  \n",
       "4  -66.707306 -62.766747  \n",
       "\n",
       "[5 rows x 77 columns]"
      ]
     },
     "execution_count": 18,
     "metadata": {},
     "output_type": "execute_result"
    }
   ],
   "source": [
    "full_data = pd.concat((full_data,pd.DataFrame(probs,columns=['lm_'+x for x in full_options])),axis=1)\n",
    "full_data = full_data.loc[pd.notnull(full_data['Ann']),:]\n",
    "full_data.head()"
   ]
  },
  {
   "cell_type": "code",
   "execution_count": 19,
   "metadata": {
    "collapsed": false
   },
   "outputs": [],
   "source": [
    "probs_ratio = []\n",
    "probs_delta = []\n",
    "init_probs = []\n",
    "corr_probs = []\n",
    "lm_choice = []\n",
    "for i in range(full_data.shape[0]):\n",
    "    row = full_data.iloc[i]\n",
    "    init_prob = row['lm_'+row['Initial']]\n",
    "    corr_prob = row['lm_'+row['ML_L1']]\n",
    "    init_probs.append(init_prob)\n",
    "    corr_probs.append(corr_prob)\n",
    "    probs_ratio.append(init_prob / corr_prob)\n",
    "    probs_delta.append(init_prob - corr_prob)\n",
    "    lm_choice.append(np.argmax(row[['lm_'+x for x in full_options]]).split('_')[1])\n",
    "full_data['init_prob'] = init_probs\n",
    "full_data['corr_prob'] = corr_probs\n",
    "full_data['probs_ratio'] = probs_ratio\n",
    "full_data['probs_delta'] = probs_delta\n",
    "full_data['LM'] = lm_choice"
   ]
  },
  {
   "cell_type": "code",
   "execution_count": 20,
   "metadata": {
    "collapsed": false,
    "scrolled": true
   },
   "outputs": [
    {
     "data": {
      "text/html": [
       "<div>\n",
       "<table border=\"1\" class=\"dataframe\">\n",
       "  <thead>\n",
       "    <tr style=\"text-align: right;\">\n",
       "      <th></th>\n",
       "      <th>present</th>\n",
       "      <th>zero</th>\n",
       "      <th>about</th>\n",
       "      <th>along</th>\n",
       "      <th>among</th>\n",
       "      <th>around</th>\n",
       "      <th>as</th>\n",
       "      <th>at</th>\n",
       "      <th>beside</th>\n",
       "      <th>between</th>\n",
       "      <th>...</th>\n",
       "      <th>lm_upon</th>\n",
       "      <th>lm_with</th>\n",
       "      <th>lm_within</th>\n",
       "      <th>lm_without</th>\n",
       "      <th>lm_zero</th>\n",
       "      <th>init_prob</th>\n",
       "      <th>corr_prob</th>\n",
       "      <th>probs_ratio</th>\n",
       "      <th>probs_delta</th>\n",
       "      <th>LM</th>\n",
       "    </tr>\n",
       "  </thead>\n",
       "  <tbody>\n",
       "    <tr>\n",
       "      <th>0</th>\n",
       "      <td>0.057180</td>\n",
       "      <td>0.942820</td>\n",
       "      <td>0.000258</td>\n",
       "      <td>0.000388</td>\n",
       "      <td>0.001148</td>\n",
       "      <td>0.000244</td>\n",
       "      <td>0.115932</td>\n",
       "      <td>0.001321</td>\n",
       "      <td>0.000146</td>\n",
       "      <td>0.094416</td>\n",
       "      <td>...</td>\n",
       "      <td>-68.67732</td>\n",
       "      <td>-67.67051</td>\n",
       "      <td>-68.250374</td>\n",
       "      <td>-68.535490</td>\n",
       "      <td>-63.410843</td>\n",
       "      <td>-63.410843</td>\n",
       "      <td>-63.410843</td>\n",
       "      <td>1.000000</td>\n",
       "      <td>0.000000</td>\n",
       "      <td>zero</td>\n",
       "    </tr>\n",
       "    <tr>\n",
       "      <th>1</th>\n",
       "      <td>0.000579</td>\n",
       "      <td>0.999421</td>\n",
       "      <td>0.029673</td>\n",
       "      <td>0.000062</td>\n",
       "      <td>0.000706</td>\n",
       "      <td>0.002724</td>\n",
       "      <td>0.213891</td>\n",
       "      <td>0.000282</td>\n",
       "      <td>0.000084</td>\n",
       "      <td>0.000083</td>\n",
       "      <td>...</td>\n",
       "      <td>-68.59552</td>\n",
       "      <td>-65.34287</td>\n",
       "      <td>-67.171130</td>\n",
       "      <td>-66.910200</td>\n",
       "      <td>-63.410843</td>\n",
       "      <td>-63.410843</td>\n",
       "      <td>-63.410843</td>\n",
       "      <td>1.000000</td>\n",
       "      <td>0.000000</td>\n",
       "      <td>zero</td>\n",
       "    </tr>\n",
       "    <tr>\n",
       "      <th>2</th>\n",
       "      <td>0.998452</td>\n",
       "      <td>0.001548</td>\n",
       "      <td>0.001611</td>\n",
       "      <td>0.000054</td>\n",
       "      <td>0.024830</td>\n",
       "      <td>0.000388</td>\n",
       "      <td>0.001244</td>\n",
       "      <td>0.000699</td>\n",
       "      <td>0.000064</td>\n",
       "      <td>0.002067</td>\n",
       "      <td>...</td>\n",
       "      <td>-67.08113</td>\n",
       "      <td>-64.77977</td>\n",
       "      <td>-66.988810</td>\n",
       "      <td>-66.408394</td>\n",
       "      <td>-63.867430</td>\n",
       "      <td>-63.410843</td>\n",
       "      <td>-63.410843</td>\n",
       "      <td>1.000000</td>\n",
       "      <td>0.000000</td>\n",
       "      <td>of</td>\n",
       "    </tr>\n",
       "    <tr>\n",
       "      <th>3</th>\n",
       "      <td>0.537116</td>\n",
       "      <td>0.462884</td>\n",
       "      <td>0.000147</td>\n",
       "      <td>0.000286</td>\n",
       "      <td>0.000054</td>\n",
       "      <td>0.001057</td>\n",
       "      <td>0.000129</td>\n",
       "      <td>0.003057</td>\n",
       "      <td>0.000206</td>\n",
       "      <td>0.001394</td>\n",
       "      <td>...</td>\n",
       "      <td>-66.86648</td>\n",
       "      <td>-65.36411</td>\n",
       "      <td>-66.375330</td>\n",
       "      <td>-66.482540</td>\n",
       "      <td>-63.077470</td>\n",
       "      <td>-63.410843</td>\n",
       "      <td>-64.749596</td>\n",
       "      <td>0.979324</td>\n",
       "      <td>1.338753</td>\n",
       "      <td>zero</td>\n",
       "    </tr>\n",
       "    <tr>\n",
       "      <th>4</th>\n",
       "      <td>0.989848</td>\n",
       "      <td>0.010152</td>\n",
       "      <td>0.000028</td>\n",
       "      <td>0.000067</td>\n",
       "      <td>0.000067</td>\n",
       "      <td>0.000131</td>\n",
       "      <td>0.000572</td>\n",
       "      <td>0.001795</td>\n",
       "      <td>0.000086</td>\n",
       "      <td>0.000201</td>\n",
       "      <td>...</td>\n",
       "      <td>-65.92004</td>\n",
       "      <td>-64.33803</td>\n",
       "      <td>-64.737820</td>\n",
       "      <td>-66.707306</td>\n",
       "      <td>-62.766747</td>\n",
       "      <td>-63.410843</td>\n",
       "      <td>-63.410843</td>\n",
       "      <td>1.000000</td>\n",
       "      <td>0.000000</td>\n",
       "      <td>zero</td>\n",
       "    </tr>\n",
       "  </tbody>\n",
       "</table>\n",
       "<p>5 rows × 82 columns</p>\n",
       "</div>"
      ],
      "text/plain": [
       "    present      zero     about     along     among    around        as  \\\n",
       "0  0.057180  0.942820  0.000258  0.000388  0.001148  0.000244  0.115932   \n",
       "1  0.000579  0.999421  0.029673  0.000062  0.000706  0.002724  0.213891   \n",
       "2  0.998452  0.001548  0.001611  0.000054  0.024830  0.000388  0.001244   \n",
       "3  0.537116  0.462884  0.000147  0.000286  0.000054  0.001057  0.000129   \n",
       "4  0.989848  0.010152  0.000028  0.000067  0.000067  0.000131  0.000572   \n",
       "\n",
       "         at    beside   between  ...    lm_upon   lm_with  lm_within  \\\n",
       "0  0.001321  0.000146  0.094416  ...  -68.67732 -67.67051 -68.250374   \n",
       "1  0.000282  0.000084  0.000083  ...  -68.59552 -65.34287 -67.171130   \n",
       "2  0.000699  0.000064  0.002067  ...  -67.08113 -64.77977 -66.988810   \n",
       "3  0.003057  0.000206  0.001394  ...  -66.86648 -65.36411 -66.375330   \n",
       "4  0.001795  0.000086  0.000201  ...  -65.92004 -64.33803 -64.737820   \n",
       "\n",
       "   lm_without    lm_zero  init_prob  corr_prob  probs_ratio  probs_delta    LM  \n",
       "0  -68.535490 -63.410843 -63.410843 -63.410843     1.000000     0.000000  zero  \n",
       "1  -66.910200 -63.410843 -63.410843 -63.410843     1.000000     0.000000  zero  \n",
       "2  -66.408394 -63.867430 -63.410843 -63.410843     1.000000     0.000000    of  \n",
       "3  -66.482540 -63.077470 -63.410843 -64.749596     0.979324     1.338753  zero  \n",
       "4  -66.707306 -62.766747 -63.410843 -63.410843     1.000000     0.000000  zero  \n",
       "\n",
       "[5 rows x 82 columns]"
      ]
     },
     "execution_count": 20,
     "metadata": {},
     "output_type": "execute_result"
    }
   ],
   "source": [
    "full_data.head()"
   ]
  },
  {
   "cell_type": "code",
   "execution_count": 21,
   "metadata": {
    "collapsed": false
   },
   "outputs": [
    {
     "data": {
      "text/html": [
       "<div>\n",
       "<table border=\"1\" class=\"dataframe\">\n",
       "  <thead>\n",
       "    <tr style=\"text-align: right;\">\n",
       "      <th></th>\n",
       "      <th>present</th>\n",
       "      <th>zero</th>\n",
       "      <th>about</th>\n",
       "      <th>along</th>\n",
       "      <th>among</th>\n",
       "      <th>around</th>\n",
       "      <th>as</th>\n",
       "      <th>at</th>\n",
       "      <th>beside</th>\n",
       "      <th>between</th>\n",
       "      <th>...</th>\n",
       "      <th>lm_upon</th>\n",
       "      <th>lm_with</th>\n",
       "      <th>lm_within</th>\n",
       "      <th>lm_without</th>\n",
       "      <th>lm_zero</th>\n",
       "      <th>init_prob</th>\n",
       "      <th>corr_prob</th>\n",
       "      <th>probs_ratio</th>\n",
       "      <th>probs_delta</th>\n",
       "      <th>LM</th>\n",
       "    </tr>\n",
       "  </thead>\n",
       "  <tbody>\n",
       "    <tr>\n",
       "      <th>3</th>\n",
       "      <td>0.537116</td>\n",
       "      <td>0.462884</td>\n",
       "      <td>0.000147</td>\n",
       "      <td>0.000286</td>\n",
       "      <td>0.000054</td>\n",
       "      <td>0.001057</td>\n",
       "      <td>0.000129</td>\n",
       "      <td>0.003057</td>\n",
       "      <td>0.000206</td>\n",
       "      <td>0.001394</td>\n",
       "      <td>...</td>\n",
       "      <td>-66.86648</td>\n",
       "      <td>-65.36411</td>\n",
       "      <td>-66.375330</td>\n",
       "      <td>-66.482540</td>\n",
       "      <td>-63.077470</td>\n",
       "      <td>-63.410843</td>\n",
       "      <td>-64.749596</td>\n",
       "      <td>0.979324</td>\n",
       "      <td>1.338753</td>\n",
       "      <td>zero</td>\n",
       "    </tr>\n",
       "    <tr>\n",
       "      <th>4</th>\n",
       "      <td>0.989848</td>\n",
       "      <td>0.010152</td>\n",
       "      <td>0.000028</td>\n",
       "      <td>0.000067</td>\n",
       "      <td>0.000067</td>\n",
       "      <td>0.000131</td>\n",
       "      <td>0.000572</td>\n",
       "      <td>0.001795</td>\n",
       "      <td>0.000086</td>\n",
       "      <td>0.000201</td>\n",
       "      <td>...</td>\n",
       "      <td>-65.92004</td>\n",
       "      <td>-64.33803</td>\n",
       "      <td>-64.737820</td>\n",
       "      <td>-66.707306</td>\n",
       "      <td>-62.766747</td>\n",
       "      <td>-63.410843</td>\n",
       "      <td>-63.410843</td>\n",
       "      <td>1.000000</td>\n",
       "      <td>0.000000</td>\n",
       "      <td>zero</td>\n",
       "    </tr>\n",
       "    <tr>\n",
       "      <th>10</th>\n",
       "      <td>0.052714</td>\n",
       "      <td>0.947286</td>\n",
       "      <td>0.000072</td>\n",
       "      <td>0.000189</td>\n",
       "      <td>0.000130</td>\n",
       "      <td>0.000877</td>\n",
       "      <td>0.000852</td>\n",
       "      <td>0.002919</td>\n",
       "      <td>0.000344</td>\n",
       "      <td>0.004622</td>\n",
       "      <td>...</td>\n",
       "      <td>-96.33144</td>\n",
       "      <td>-94.82908</td>\n",
       "      <td>-95.840294</td>\n",
       "      <td>-95.947500</td>\n",
       "      <td>-92.542430</td>\n",
       "      <td>-92.875820</td>\n",
       "      <td>-92.542430</td>\n",
       "      <td>1.003603</td>\n",
       "      <td>-0.333390</td>\n",
       "      <td>zero</td>\n",
       "    </tr>\n",
       "    <tr>\n",
       "      <th>14</th>\n",
       "      <td>0.056559</td>\n",
       "      <td>0.943441</td>\n",
       "      <td>0.000038</td>\n",
       "      <td>0.000351</td>\n",
       "      <td>0.010075</td>\n",
       "      <td>0.000087</td>\n",
       "      <td>0.053072</td>\n",
       "      <td>0.000106</td>\n",
       "      <td>0.000707</td>\n",
       "      <td>0.025298</td>\n",
       "      <td>...</td>\n",
       "      <td>-91.90727</td>\n",
       "      <td>-88.55996</td>\n",
       "      <td>-91.658630</td>\n",
       "      <td>-91.043850</td>\n",
       "      <td>-87.281250</td>\n",
       "      <td>-86.664600</td>\n",
       "      <td>-87.281250</td>\n",
       "      <td>0.992935</td>\n",
       "      <td>0.616650</td>\n",
       "      <td>in</td>\n",
       "    </tr>\n",
       "    <tr>\n",
       "      <th>17</th>\n",
       "      <td>0.993923</td>\n",
       "      <td>0.006077</td>\n",
       "      <td>0.000066</td>\n",
       "      <td>0.000467</td>\n",
       "      <td>0.000142</td>\n",
       "      <td>0.000082</td>\n",
       "      <td>0.001537</td>\n",
       "      <td>0.002713</td>\n",
       "      <td>0.000179</td>\n",
       "      <td>0.000038</td>\n",
       "      <td>...</td>\n",
       "      <td>-91.15803</td>\n",
       "      <td>-88.89931</td>\n",
       "      <td>-90.126580</td>\n",
       "      <td>-91.343250</td>\n",
       "      <td>-86.464250</td>\n",
       "      <td>-86.664600</td>\n",
       "      <td>-86.664600</td>\n",
       "      <td>1.000000</td>\n",
       "      <td>0.000000</td>\n",
       "      <td>zero</td>\n",
       "    </tr>\n",
       "  </tbody>\n",
       "</table>\n",
       "<p>5 rows × 82 columns</p>\n",
       "</div>"
      ],
      "text/plain": [
       "     present      zero     about     along     among    around        as  \\\n",
       "3   0.537116  0.462884  0.000147  0.000286  0.000054  0.001057  0.000129   \n",
       "4   0.989848  0.010152  0.000028  0.000067  0.000067  0.000131  0.000572   \n",
       "10  0.052714  0.947286  0.000072  0.000189  0.000130  0.000877  0.000852   \n",
       "14  0.056559  0.943441  0.000038  0.000351  0.010075  0.000087  0.053072   \n",
       "17  0.993923  0.006077  0.000066  0.000467  0.000142  0.000082  0.001537   \n",
       "\n",
       "          at    beside   between  ...    lm_upon   lm_with  lm_within  \\\n",
       "3   0.003057  0.000206  0.001394  ...  -66.86648 -65.36411 -66.375330   \n",
       "4   0.001795  0.000086  0.000201  ...  -65.92004 -64.33803 -64.737820   \n",
       "10  0.002919  0.000344  0.004622  ...  -96.33144 -94.82908 -95.840294   \n",
       "14  0.000106  0.000707  0.025298  ...  -91.90727 -88.55996 -91.658630   \n",
       "17  0.002713  0.000179  0.000038  ...  -91.15803 -88.89931 -90.126580   \n",
       "\n",
       "    lm_without    lm_zero  init_prob  corr_prob  probs_ratio  probs_delta  \\\n",
       "3   -66.482540 -63.077470 -63.410843 -64.749596     0.979324     1.338753   \n",
       "4   -66.707306 -62.766747 -63.410843 -63.410843     1.000000     0.000000   \n",
       "10  -95.947500 -92.542430 -92.875820 -92.542430     1.003603    -0.333390   \n",
       "14  -91.043850 -87.281250 -86.664600 -87.281250     0.992935     0.616650   \n",
       "17  -91.343250 -86.464250 -86.664600 -86.664600     1.000000     0.000000   \n",
       "\n",
       "      LM  \n",
       "3   zero  \n",
       "4   zero  \n",
       "10  zero  \n",
       "14    in  \n",
       "17  zero  \n",
       "\n",
       "[5 rows x 82 columns]"
      ]
     },
     "execution_count": 21,
     "metadata": {},
     "output_type": "execute_result"
    }
   ],
   "source": [
    "data = full_data.loc[(full_data['Initial'] != full_data['ML_L1']) | (full_data['Initial'] != full_data['LM']),:]\n",
    "data.head()"
   ]
  },
  {
   "cell_type": "code",
   "execution_count": 22,
   "metadata": {
    "collapsed": false
   },
   "outputs": [
    {
     "data": {
      "text/plain": [
       "(9383, 82)"
      ]
     },
     "execution_count": 22,
     "metadata": {},
     "output_type": "execute_result"
    }
   ],
   "source": [
    "data.shape"
   ]
  },
  {
   "cell_type": "code",
   "execution_count": 76,
   "metadata": {
    "collapsed": true
   },
   "outputs": [],
   "source": [
    "data = data.loc[pd.notnull(data['Ann']),:]\n",
    "data['Ann'] = data['Ann'].apply(str.lower)\n",
    "target = data['Ann']\n",
    "X = data.drop(['Ann','raw_NP','Start_idx','Sent_start_idx'],axis=1)"
   ]
  },
  {
   "cell_type": "code",
   "execution_count": 61,
   "metadata": {
    "collapsed": false
   },
   "outputs": [],
   "source": [
    "target_vect = CountVectorizer(token_pattern='.+')\n",
    "target_vect.fit(full_options)\n",
    "X_sparse = hstack((X.drop(['Initial','ML_L1','LM']+['lm_'+x for x in full_options],axis=1).to_sparse(),\n",
    "                   target_vect.transform(X['Initial']),\n",
    "                   target_vect.transform(X['LM']),\n",
    "                   target_vect.transform(X['ML_L1'])))"
   ]
  },
  {
   "cell_type": "code",
   "execution_count": 62,
   "metadata": {
    "collapsed": false
   },
   "outputs": [
    {
     "data": {
      "text/plain": [
       "<9378x149 sparse matrix of type '<class 'numpy.float64'>'\n",
       "\twith 381702 stored elements in COOrdinate format>"
      ]
     },
     "execution_count": 62,
     "metadata": {},
     "output_type": "execute_result"
    }
   ],
   "source": [
    "X_sparse"
   ]
  },
  {
   "cell_type": "code",
   "execution_count": 78,
   "metadata": {
    "collapsed": false
   },
   "outputs": [],
   "source": [
    "X_train, X_test, y_train, y_test = train_test_split(X_sparse, target, test_size=0.33, random_state=SEED)"
   ]
  },
  {
   "cell_type": "code",
   "execution_count": 79,
   "metadata": {
    "collapsed": false,
    "scrolled": false
   },
   "outputs": [
    {
     "name": "stdout",
     "output_type": "stream",
     "text": [
      "0.929886914378\n",
      "             precision    recall  f1-score   support\n",
      "\n",
      "      about       0.92      1.00      0.96       119\n",
      "      among       0.88      0.92      0.90        24\n",
      "     around       1.00      1.00      1.00         6\n",
      "         as       0.98      1.00      0.99        61\n",
      "         at       0.79      0.80      0.80        96\n",
      "    besides       0.00      0.00      0.00         1\n",
      "    between       0.96      0.87      0.91        30\n",
      "         by       0.90      0.87      0.88        75\n",
      "     during       1.00      0.86      0.93        36\n",
      "     except       1.00      0.20      0.33         5\n",
      "        for       0.90      0.96      0.93       276\n",
      "       from       0.92      0.97      0.95       109\n",
      "         in       0.94      0.94      0.94       868\n",
      "       into       1.00      0.91      0.95        11\n",
      "         of       0.96      0.95      0.96       616\n",
      "         on       0.83      0.87      0.85       168\n",
      "       over       1.00      0.95      0.97        20\n",
      "    through       0.82      0.90      0.86        10\n",
      "         to       0.00      0.00      0.00        27\n",
      "    towards       0.00      0.00      0.00         1\n",
      "      under       1.00      0.88      0.93         8\n",
      "      until       0.62      1.00      0.77         5\n",
      "       with       0.91      0.97      0.94       173\n",
      "     within       0.00      0.00      0.00         2\n",
      "    without       1.00      1.00      1.00        11\n",
      "       zero       0.98      0.95      0.96       337\n",
      "\n",
      "avg / total       0.92      0.93      0.93      3095\n",
      "\n"
     ]
    },
    {
     "name": "stderr",
     "output_type": "stream",
     "text": [
      "C:\\Users\\PC1\\Anaconda3\\lib\\site-packages\\sklearn\\metrics\\classification.py:1135: UndefinedMetricWarning: Precision and F-score are ill-defined and being set to 0.0 in labels with no predicted samples.\n",
      "  'precision', 'predicted', average, warn_for)\n"
     ]
    }
   ],
   "source": [
    "xgb = XGBClassifier(seed=SEED)\n",
    "xgb.fit(X_train,y_train)\n",
    "x_pred = xgb.predict(X_test)\n",
    "print(accuracy_score(y_test,x_pred))\n",
    "print(classification_report(y_test,x_pred))"
   ]
  },
  {
   "cell_type": "code",
   "execution_count": 82,
   "metadata": {
    "collapsed": false
   },
   "outputs": [],
   "source": [
    "test_data = data.loc[y_test.index]\n",
    "test_data['Preds'] = x_pred\n",
    "not_same = test_data.loc[(y_test != test_data['ML_L1']) & (y_test != test_data['Initial']),['Initial','ML_L1','Preds','Ann']]"
   ]
  },
  {
   "cell_type": "code",
   "execution_count": 83,
   "metadata": {
    "collapsed": false
   },
   "outputs": [
    {
     "data": {
      "text/html": [
       "<div>\n",
       "<table border=\"1\" class=\"dataframe\">\n",
       "  <thead>\n",
       "    <tr style=\"text-align: right;\">\n",
       "      <th></th>\n",
       "      <th>Initial</th>\n",
       "      <th>ML_L1</th>\n",
       "      <th>Preds</th>\n",
       "      <th>Ann</th>\n",
       "    </tr>\n",
       "  </thead>\n",
       "  <tbody>\n",
       "    <tr>\n",
       "      <th>18580</th>\n",
       "      <td>at</td>\n",
       "      <td>over</td>\n",
       "      <td>by</td>\n",
       "      <td>by</td>\n",
       "    </tr>\n",
       "  </tbody>\n",
       "</table>\n",
       "</div>"
      ],
      "text/plain": [
       "      Initial ML_L1 Preds Ann\n",
       "18580      at  over    by  by"
      ]
     },
     "execution_count": 83,
     "metadata": {},
     "output_type": "execute_result"
    }
   ],
   "source": [
    "not_same[not_same['Preds'] == not_same['Ann']]"
   ]
  },
  {
   "cell_type": "code",
   "execution_count": 84,
   "metadata": {
    "collapsed": false
   },
   "outputs": [
    {
     "data": {
      "text/html": [
       "<div>\n",
       "<table border=\"1\" class=\"dataframe\">\n",
       "  <thead>\n",
       "    <tr style=\"text-align: right;\">\n",
       "      <th></th>\n",
       "      <th>Initial</th>\n",
       "      <th>ML_L1</th>\n",
       "      <th>Preds</th>\n",
       "      <th>Ann</th>\n",
       "    </tr>\n",
       "  </thead>\n",
       "  <tbody>\n",
       "    <tr>\n",
       "      <th>18580</th>\n",
       "      <td>at</td>\n",
       "      <td>over</td>\n",
       "      <td>by</td>\n",
       "      <td>by</td>\n",
       "    </tr>\n",
       "    <tr>\n",
       "      <th>29635</th>\n",
       "      <td>in</td>\n",
       "      <td>over</td>\n",
       "      <td>at</td>\n",
       "      <td>in</td>\n",
       "    </tr>\n",
       "    <tr>\n",
       "      <th>12215</th>\n",
       "      <td>except</td>\n",
       "      <td>of</td>\n",
       "      <td>in</td>\n",
       "      <td>except</td>\n",
       "    </tr>\n",
       "    <tr>\n",
       "      <th>13466</th>\n",
       "      <td>except</td>\n",
       "      <td>with</td>\n",
       "      <td>in</td>\n",
       "      <td>except</td>\n",
       "    </tr>\n",
       "    <tr>\n",
       "      <th>26502</th>\n",
       "      <td>for</td>\n",
       "      <td>of</td>\n",
       "      <td>in</td>\n",
       "      <td>for</td>\n",
       "    </tr>\n",
       "  </tbody>\n",
       "</table>\n",
       "</div>"
      ],
      "text/plain": [
       "      Initial ML_L1 Preds     Ann\n",
       "18580      at  over    by      by\n",
       "29635      in  over    at      in\n",
       "12215  except    of    in  except\n",
       "13466  except  with    in  except\n",
       "26502     for    of    in     for"
      ]
     },
     "execution_count": 84,
     "metadata": {},
     "output_type": "execute_result"
    }
   ],
   "source": [
    "test_data.loc[(x_pred != test_data['ML_L1']) & (x_pred != test_data['Initial']),['Initial','ML_L1','Preds','Ann']]"
   ]
  },
  {
   "cell_type": "code",
   "execution_count": 38,
   "metadata": {
    "collapsed": false
   },
   "outputs": [
    {
     "name": "stdout",
     "output_type": "stream",
     "text": [
      "0.784954407295\n",
      "             precision    recall  f1-score   support\n",
      "\n",
      "          a       0.80      0.70      0.75       359\n",
      "         an       0.82      0.66      0.73        77\n",
      "        the       0.82      0.76      0.79       996\n",
      "       zero       0.75      0.84      0.79      1200\n",
      "\n",
      "avg / total       0.79      0.78      0.78      2632\n",
      "\n"
     ]
    }
   ],
   "source": [
    "forest = RandomForestClassifier(n_estimators=300,random_state=SEED)\n",
    "forest.fit(X_train,y_train)\n",
    "f_pred = forest.predict(X_test)\n",
    "print(accuracy_score(y_test,f_pred))\n",
    "print(classification_report(y_test,f_pred))"
   ]
  },
  {
   "cell_type": "code",
   "execution_count": 85,
   "metadata": {
    "collapsed": false
   },
   "outputs": [
    {
     "name": "stdout",
     "output_type": "stream",
     "text": [
      "0.929563812601\n",
      "             precision    recall  f1-score   support\n",
      "\n",
      "      about       0.92      1.00      0.96       119\n",
      "      among       0.88      0.92      0.90        24\n",
      "     around       1.00      1.00      1.00         6\n",
      "         as       0.98      1.00      0.99        61\n",
      "         at       0.80      0.77      0.78        96\n",
      "    besides       1.00      1.00      1.00         1\n",
      "    between       0.96      0.87      0.91        30\n",
      "         by       0.89      0.85      0.87        75\n",
      "     during       1.00      0.86      0.93        36\n",
      "     except       0.00      0.00      0.00         5\n",
      "        for       0.90      0.96      0.93       276\n",
      "       from       0.91      0.98      0.94       109\n",
      "         in       0.94      0.95      0.94       868\n",
      "       into       1.00      0.91      0.95        11\n",
      "         of       0.96      0.95      0.96       616\n",
      "         on       0.83      0.86      0.84       168\n",
      "       over       1.00      0.95      0.97        20\n",
      "    through       0.82      0.90      0.86        10\n",
      "         to       0.00      0.00      0.00        27\n",
      "    towards       0.00      0.00      0.00         1\n",
      "      under       1.00      0.88      0.93         8\n",
      "      until       0.57      0.80      0.67         5\n",
      "       with       0.91      0.97      0.94       173\n",
      "     within       0.00      0.00      0.00         2\n",
      "    without       1.00      1.00      1.00        11\n",
      "       zero       0.98      0.95      0.97       337\n",
      "\n",
      "avg / total       0.92      0.93      0.92      3095\n",
      "\n"
     ]
    },
    {
     "name": "stderr",
     "output_type": "stream",
     "text": [
      "C:\\Users\\PC1\\Anaconda3\\lib\\site-packages\\sklearn\\metrics\\classification.py:1135: UndefinedMetricWarning: Precision and F-score are ill-defined and being set to 0.0 in labels with no predicted samples.\n",
      "  'precision', 'predicted', average, warn_for)\n"
     ]
    }
   ],
   "source": [
    "logit = LogisticRegression(random_state=SEED)\n",
    "logit.fit(X_train,y_train)\n",
    "l_pred = logit.predict(X_test)\n",
    "print(accuracy_score(y_test,l_pred))\n",
    "print(classification_report(y_test,l_pred))"
   ]
  },
  {
   "cell_type": "code",
   "execution_count": 34,
   "metadata": {
    "collapsed": false
   },
   "outputs": [
    {
     "name": "stdout",
     "output_type": "stream",
     "text": [
      "init_the - 0.118495433265\n",
      "init_zero - 0.0985645221145\n",
      "init_a - 0.0823167659037\n",
      "zero - 0.0805626130461\n",
      "present - 0.0790257154328\n",
      "probs_delta - 0.0710716376968\n",
      "probs_ratio - 0.0697842861776\n",
      "ml_a - 0.0692898836246\n",
      "ml_the - 0.0649227469684\n",
      "ml_an - 0.0641604327396\n",
      "corr_prob - 0.0518712162127\n",
      "init_prob - 0.051343238892\n",
      "init_an - 0.0197780372385\n",
      "corr_the - 0.0163153147678\n",
      "corr_zero - 0.0156236370571\n",
      "lm_an - 0.0125670240678\n",
      "corr_a - 0.0121701481888\n",
      "lm_the - 0.0115679073338\n",
      "lm_zero - 0.00464117517574\n",
      "lm_a - 0.00435974889176\n",
      "corr_an - 0.00156851520452\n"
     ]
    }
   ],
   "source": [
    "feats = ['present','zero','ml_a','ml_an','ml_the',\n",
    "         'init_prob','corr_prob','probs_ratio','probs_delta',\n",
    "        'init_a','init_an','init_the','init_zero','corr_a','lm_a','lm_an','lm_the','lm_zero','corr_an','corr_the','corr_zero']\n",
    "imps = forest.feature_importances_\n",
    "for f,i in sorted(zip(feats,imps),key=lambda x: x[1],reverse=True):\n",
    "    print(f,'-',i)"
   ]
  },
  {
   "cell_type": "code",
   "execution_count": 68,
   "metadata": {
    "collapsed": false,
    "scrolled": true
   },
   "outputs": [
    {
     "name": "stdout",
     "output_type": "stream",
     "text": [
      "0.374223182924\n",
      "             precision    recall  f1-score   support\n",
      "\n",
      "          a       0.28      0.35      0.31       467\n",
      "         an       0.20      0.22      0.21        82\n",
      "        the       0.37      0.45      0.41      1458\n",
      "       zero       0.43      0.33      0.37      1694\n",
      "\n",
      "avg / total       0.38      0.37      0.37      3701\n",
      "\n"
     ]
    }
   ],
   "source": [
    "L1_preds = X.loc[y_test.index,'ML_L1']\n",
    "print(accuracy_score(y_test,L1_preds))\n",
    "print(classification_report(y_test,L1_preds))"
   ]
  },
  {
   "cell_type": "code",
   "execution_count": 69,
   "metadata": {
    "collapsed": false
   },
   "outputs": [
    {
     "name": "stdout",
     "output_type": "stream",
     "text": [
      "0.41664415023\n",
      "             precision    recall  f1-score   support\n",
      "\n",
      "          a       0.35      0.37      0.36       467\n",
      "         an       0.37      0.49      0.42        82\n",
      "        the       0.41      0.39      0.40      1458\n",
      "       zero       0.44      0.45      0.45      1694\n",
      "\n",
      "avg / total       0.42      0.42      0.42      3701\n",
      "\n"
     ]
    }
   ],
   "source": [
    "L1_preds = X.loc[y_test.index,'LM']\n",
    "print(accuracy_score(y_test,L1_preds))\n",
    "print(classification_report(y_test,L1_preds))"
   ]
  },
  {
   "cell_type": "code",
   "execution_count": 52,
   "metadata": {
    "collapsed": false,
    "scrolled": true
   },
   "outputs": [
    {
     "name": "stdout",
     "output_type": "stream",
     "text": [
      "0.565349544073\n",
      "             precision    recall  f1-score   support\n",
      "\n",
      "          a       0.54      0.48      0.51       359\n",
      "         an       0.57      0.47      0.51        77\n",
      "        the       0.53      0.48      0.51       996\n",
      "       zero       0.59      0.67      0.63      1200\n",
      "\n",
      "avg / total       0.56      0.57      0.56      2632\n",
      "\n"
     ]
    }
   ],
   "source": [
    "LM_preds = []\n",
    "for row in X.loc[y_test.index,['init_prob','corr_prob','Initial','ML_L1']].itertuples():\n",
    "    if row.init_prob > row.corr_prob:\n",
    "        LM_preds.append(row.Initial)\n",
    "    else:\n",
    "        LM_preds.append(row.ML_L1)\n",
    "print(accuracy_score(y_test,LM_preds))\n",
    "print(classification_report(y_test,LM_preds))"
   ]
  },
  {
   "cell_type": "code",
   "execution_count": 68,
   "metadata": {
    "collapsed": false
   },
   "outputs": [
    {
     "data": {
      "text/plain": [
       "9360"
      ]
     },
     "execution_count": 68,
     "metadata": {},
     "output_type": "execute_result"
    }
   ],
   "source": [
    "sum(L1_preds == X.loc[y_test.index,'Initial'])"
   ]
  },
  {
   "cell_type": "code",
   "execution_count": 19,
   "metadata": {
    "collapsed": false,
    "scrolled": true
   },
   "outputs": [
    {
     "data": {
      "text/plain": [
       "(2632, 2546)"
      ]
     },
     "execution_count": 19,
     "metadata": {},
     "output_type": "execute_result"
    }
   ],
   "source": [
    "len(x_pred),sum(x_pred == X.loc[y_test.index,'Initial'])"
   ]
  },
  {
   "cell_type": "markdown",
   "metadata": {},
   "source": [
    "# Train and save the model"
   ]
  },
  {
   "cell_type": "code",
   "execution_count": 89,
   "metadata": {
    "collapsed": false
   },
   "outputs": [
    {
     "data": {
      "text/plain": [
       "XGBClassifier(base_score=0.5, colsample_bylevel=1, colsample_bytree=1,\n",
       "       gamma=0, learning_rate=0.1, max_delta_step=0, max_depth=10,\n",
       "       min_child_weight=1, missing=None, n_estimators=500, nthread=-1,\n",
       "       objective='multi:softprob', reg_alpha=0, reg_lambda=1,\n",
       "       scale_pos_weight=1, seed=7, silent=True, subsample=1)"
      ]
     },
     "execution_count": 89,
     "metadata": {},
     "output_type": "execute_result"
    }
   ],
   "source": [
    "xgb = XGBClassifier(n_estimators=500,max_depth=10,seed=SEED)\n",
    "xgb.fit(X_sparse,target)"
   ]
  },
  {
   "cell_type": "code",
   "execution_count": 90,
   "metadata": {
    "collapsed": false
   },
   "outputs": [],
   "source": [
    "with open('../../models/preposition_choice_vectorizer.pickle','wb') as f:\n",
    "    pickle.dump(target_vect,f)\n",
    "\n",
    "with open('../../models/preposition_metaclassifier_xgboost.pickle','wb') as f:\n",
    "    pickle.dump(xgb,f)   "
   ]
  }
 ],
 "metadata": {
  "kernelspec": {
   "display_name": "Python 3",
   "language": "python",
   "name": "python3"
  },
  "language_info": {
   "codemirror_mode": {
    "name": "ipython",
    "version": 3
   },
   "file_extension": ".py",
   "mimetype": "text/x-python",
   "name": "python",
   "nbconvert_exporter": "python",
   "pygments_lexer": "ipython3",
   "version": "3.5.3"
  }
 },
 "nbformat": 4,
 "nbformat_minor": 0
}
